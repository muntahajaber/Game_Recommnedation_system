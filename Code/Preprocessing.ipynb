{
 "cells": [
  {
   "cell_type": "markdown",
   "id": "cb35e7ba",
   "metadata": {},
   "source": [
    "# Imports"
   ]
  },
  {
   "cell_type": "code",
   "execution_count": 1,
   "id": "141db5ce",
   "metadata": {
    "collapsed": true,
    "jupyter": {
     "outputs_hidden": true
    }
   },
   "outputs": [
    {
     "name": "stdout",
     "output_type": "stream",
     "text": [
      "Requirement already satisfied: nltk in /Users/muntaha/opt/anaconda3/lib/python3.8/site-packages (3.6.1)\n",
      "Requirement already satisfied: joblib in /Users/muntaha/opt/anaconda3/lib/python3.8/site-packages (from nltk) (1.0.1)\n",
      "Requirement already satisfied: regex in /Users/muntaha/opt/anaconda3/lib/python3.8/site-packages (from nltk) (2021.4.4)\n",
      "Requirement already satisfied: click in /Users/muntaha/opt/anaconda3/lib/python3.8/site-packages (from nltk) (7.1.2)\n",
      "Requirement already satisfied: tqdm in /Users/muntaha/opt/anaconda3/lib/python3.8/site-packages (from nltk) (4.59.0)\n"
     ]
    }
   ],
   "source": [
    "# Import nltk if not\n",
    "# !pip install nltk"
   ]
  },
  {
   "cell_type": "code",
   "execution_count": 1,
   "id": "1428bfda",
   "metadata": {},
   "outputs": [],
   "source": [
    "import numpy as np\n",
    "import pandas as pd\n",
    "import matplotlib.pyplot as plt\n",
    "from sklearn.feature_extraction.text import TfidfVectorizer,CountVectorizer"
   ]
  },
  {
   "cell_type": "markdown",
   "id": "49ee6692",
   "metadata": {},
   "source": [
    "# Read datasets"
   ]
  },
  {
   "cell_type": "code",
   "execution_count": 4,
   "id": "1981f708",
   "metadata": {},
   "outputs": [],
   "source": [
    "game_steam_df = pd.read_csv('/Users/muntaha/Documents/Project4/games_steam.csv', index_col=0)\n",
    "game_content_df = pd.read_csv('/Users/muntaha/Documents/Project4/game_text_content.csv', index_col=0)\n",
    "game_users_df = pd.read_csv('/Users/muntaha/Documents/Project4/users_steam.csv', index_col=0)"
   ]
  },
  {
   "cell_type": "code",
   "execution_count": 13,
   "id": "cd7f83c1-ecd5-49c9-b824-9295f3f0b6bc",
   "metadata": {},
   "outputs": [],
   "source": [
    "# Elaf\n",
    "game_steam_df   = pd.read_csv(r\"C:\\Users\\elaaf\\Desktop\\SDS\\project_4_data\\steam_data.csv\")\n",
    "game_content_df = pd.read_csv(r\"C:\\Users\\elaaf\\Desktop\\SDS\\project_4_data\\text_content.csv\")\n",
    "game_users_df   = pd.read_csv(r\"C:\\Users\\elaaf\\Desktop\\SDS\\project_4_data\\steam-200k_users.csv\", \n",
    "                              names=['id', 'game_name', 'behavior',  'played_hours', 'to_delete'])\n"
   ]
  },
  {
   "cell_type": "code",
   "execution_count": 14,
   "id": "95d34859",
   "metadata": {},
   "outputs": [
    {
     "data": {
      "text/html": [
       "<div>\n",
       "<style scoped>\n",
       "    .dataframe tbody tr th:only-of-type {\n",
       "        vertical-align: middle;\n",
       "    }\n",
       "\n",
       "    .dataframe tbody tr th {\n",
       "        vertical-align: top;\n",
       "    }\n",
       "\n",
       "    .dataframe thead th {\n",
       "        text-align: right;\n",
       "    }\n",
       "</style>\n",
       "<table border=\"1\" class=\"dataframe\">\n",
       "  <thead>\n",
       "    <tr style=\"text-align: right;\">\n",
       "      <th></th>\n",
       "      <th>url</th>\n",
       "      <th>name</th>\n",
       "      <th>categories</th>\n",
       "      <th>img_url</th>\n",
       "      <th>user_reviews</th>\n",
       "      <th>all_reviews</th>\n",
       "      <th>date</th>\n",
       "      <th>developer</th>\n",
       "      <th>publisher</th>\n",
       "      <th>price</th>\n",
       "      <th>pegi</th>\n",
       "      <th>pegi_url</th>\n",
       "    </tr>\n",
       "  </thead>\n",
       "  <tbody>\n",
       "    <tr>\n",
       "      <th>0</th>\n",
       "      <td>https://store.steampowered.com/app/945360/Amon...</td>\n",
       "      <td>Among Us</td>\n",
       "      <td>Online PvPLAN PvPOnline Co-opLAN Co-opCross-Pl...</td>\n",
       "      <td>https://steamcdn-a.akamaihd.net/steam/apps/945...</td>\n",
       "      <td>Overwhelmingly Positive(151,281)- 96% of the 1...</td>\n",
       "      <td>Overwhelmingly Positive(224,878)- 95% of the 2...</td>\n",
       "      <td>Nov 16, 2018</td>\n",
       "      <td>Innersloth</td>\n",
       "      <td>Innersloth</td>\n",
       "      <td>Buy Among Us$4.99Add to Cart</td>\n",
       "      <td>-</td>\n",
       "      <td>-</td>\n",
       "    </tr>\n",
       "    <tr>\n",
       "      <th>1</th>\n",
       "      <td>https://store.steampowered.com/app/730/Counter...</td>\n",
       "      <td>Counter-Strike: Global Offensive</td>\n",
       "      <td>Steam AchievementsFull controller supportSteam...</td>\n",
       "      <td>https://steamcdn-a.akamaihd.net/steam/apps/730...</td>\n",
       "      <td>Very Positive(90,780)- 88% of the 90,780 user ...</td>\n",
       "      <td>Very Positive(4,843,904)- 87% of the 4,843,904...</td>\n",
       "      <td>Aug 21, 2012</td>\n",
       "      <td>Valve, Hidden Path Entertainment</td>\n",
       "      <td>Valve</td>\n",
       "      <td>Play Counter-Strike: Global OffensiveFree to P...</td>\n",
       "      <td>-</td>\n",
       "      <td>-</td>\n",
       "    </tr>\n",
       "    <tr>\n",
       "      <th>2</th>\n",
       "      <td>https://store.steampowered.com/app/1097150/Fal...</td>\n",
       "      <td>Fall Guys: Ultimate Knockout</td>\n",
       "      <td>MMOOnline PvPOnline Co-opSteam AchievementsFul...</td>\n",
       "      <td>https://steamcdn-a.akamaihd.net/steam/apps/109...</td>\n",
       "      <td>Very Positive(32,436)- 84% of the 32,436 user ...</td>\n",
       "      <td>Very Positive(223,706)- 80% of the 223,706 use...</td>\n",
       "      <td>Aug 3, 2020</td>\n",
       "      <td>Mediatonic</td>\n",
       "      <td>Devolver Digital</td>\n",
       "      <td>Buy Fall Guys$19.99Add to Cart</td>\n",
       "      <td>-</td>\n",
       "      <td>-</td>\n",
       "    </tr>\n",
       "    <tr>\n",
       "      <th>3</th>\n",
       "      <td>https://store.steampowered.com/app/1158310/Cru...</td>\n",
       "      <td>Crusader Kings III</td>\n",
       "      <td>Single-playerOnline PvPSteam AchievementsSteam...</td>\n",
       "      <td>https://steamcdn-a.akamaihd.net/steam/apps/115...</td>\n",
       "      <td>Very Positive(5,359)- 91% of the 5,359 user re...</td>\n",
       "      <td>Very Positive(18,951)- 92% of the 18,951 user ...</td>\n",
       "      <td>Sep 1, 2020</td>\n",
       "      <td>Paradox Development Studio</td>\n",
       "      <td>Paradox Interactive</td>\n",
       "      <td>Buy Crusader Kings III$49.99Add to Cart</td>\n",
       "      <td>BloodLanguagePartial NuditySexual ThemesUse of...</td>\n",
       "      <td>https://steamstore-a.akamaihd.net/public/share...</td>\n",
       "    </tr>\n",
       "    <tr>\n",
       "      <th>4</th>\n",
       "      <td>https://store.steampowered.com/app/1085660/Des...</td>\n",
       "      <td>Destiny 2</td>\n",
       "      <td>Single-playerOnline PvPOnline Co-opSteam Achie...</td>\n",
       "      <td>https://steamcdn-a.akamaihd.net/steam/apps/108...</td>\n",
       "      <td>Very Positive(9,147)- 87% of the 9,147 user re...</td>\n",
       "      <td>Very Positive(284,689)- 86% of the 284,689 use...</td>\n",
       "      <td>Oct 1, 2019</td>\n",
       "      <td>Bungie</td>\n",
       "      <td>Bungie</td>\n",
       "      <td>Play Destiny 2Free To PlayPlay Game</td>\n",
       "      <td>Blood Language Violence</td>\n",
       "      <td>https://steamstore-a.akamaihd.net/public/share...</td>\n",
       "    </tr>\n",
       "  </tbody>\n",
       "</table>\n",
       "</div>"
      ],
      "text/plain": [
       "                                                 url  \\\n",
       "0  https://store.steampowered.com/app/945360/Amon...   \n",
       "1  https://store.steampowered.com/app/730/Counter...   \n",
       "2  https://store.steampowered.com/app/1097150/Fal...   \n",
       "3  https://store.steampowered.com/app/1158310/Cru...   \n",
       "4  https://store.steampowered.com/app/1085660/Des...   \n",
       "\n",
       "                               name  \\\n",
       "0                          Among Us   \n",
       "1  Counter-Strike: Global Offensive   \n",
       "2      Fall Guys: Ultimate Knockout   \n",
       "3                Crusader Kings III   \n",
       "4                         Destiny 2   \n",
       "\n",
       "                                          categories  \\\n",
       "0  Online PvPLAN PvPOnline Co-opLAN Co-opCross-Pl...   \n",
       "1  Steam AchievementsFull controller supportSteam...   \n",
       "2  MMOOnline PvPOnline Co-opSteam AchievementsFul...   \n",
       "3  Single-playerOnline PvPSteam AchievementsSteam...   \n",
       "4  Single-playerOnline PvPOnline Co-opSteam Achie...   \n",
       "\n",
       "                                             img_url  \\\n",
       "0  https://steamcdn-a.akamaihd.net/steam/apps/945...   \n",
       "1  https://steamcdn-a.akamaihd.net/steam/apps/730...   \n",
       "2  https://steamcdn-a.akamaihd.net/steam/apps/109...   \n",
       "3  https://steamcdn-a.akamaihd.net/steam/apps/115...   \n",
       "4  https://steamcdn-a.akamaihd.net/steam/apps/108...   \n",
       "\n",
       "                                        user_reviews  \\\n",
       "0  Overwhelmingly Positive(151,281)- 96% of the 1...   \n",
       "1  Very Positive(90,780)- 88% of the 90,780 user ...   \n",
       "2  Very Positive(32,436)- 84% of the 32,436 user ...   \n",
       "3  Very Positive(5,359)- 91% of the 5,359 user re...   \n",
       "4  Very Positive(9,147)- 87% of the 9,147 user re...   \n",
       "\n",
       "                                         all_reviews          date  \\\n",
       "0  Overwhelmingly Positive(224,878)- 95% of the 2...  Nov 16, 2018   \n",
       "1  Very Positive(4,843,904)- 87% of the 4,843,904...  Aug 21, 2012   \n",
       "2  Very Positive(223,706)- 80% of the 223,706 use...   Aug 3, 2020   \n",
       "3  Very Positive(18,951)- 92% of the 18,951 user ...   Sep 1, 2020   \n",
       "4  Very Positive(284,689)- 86% of the 284,689 use...   Oct 1, 2019   \n",
       "\n",
       "                          developer            publisher  \\\n",
       "0                        Innersloth           Innersloth   \n",
       "1  Valve, Hidden Path Entertainment                Valve   \n",
       "2                        Mediatonic     Devolver Digital   \n",
       "3        Paradox Development Studio  Paradox Interactive   \n",
       "4                            Bungie              Bungie    \n",
       "\n",
       "                                               price  \\\n",
       "0                       Buy Among Us$4.99Add to Cart   \n",
       "1  Play Counter-Strike: Global OffensiveFree to P...   \n",
       "2                     Buy Fall Guys$19.99Add to Cart   \n",
       "3            Buy Crusader Kings III$49.99Add to Cart   \n",
       "4                Play Destiny 2Free To PlayPlay Game   \n",
       "\n",
       "                                                pegi  \\\n",
       "0                                                  -   \n",
       "1                                                  -   \n",
       "2                                                  -   \n",
       "3  BloodLanguagePartial NuditySexual ThemesUse of...   \n",
       "4                            Blood Language Violence   \n",
       "\n",
       "                                            pegi_url  \n",
       "0                                                  -  \n",
       "1                                                  -  \n",
       "2                                                  -  \n",
       "3  https://steamstore-a.akamaihd.net/public/share...  \n",
       "4  https://steamstore-a.akamaihd.net/public/share...  "
      ]
     },
     "execution_count": 14,
     "metadata": {},
     "output_type": "execute_result"
    }
   ],
   "source": [
    "game_steam_df.head()"
   ]
  },
  {
   "cell_type": "code",
   "execution_count": 15,
   "id": "d80ff15b-56d6-4046-9b12-217aa1f811f8",
   "metadata": {},
   "outputs": [
    {
     "data": {
      "text/html": [
       "<div>\n",
       "<style scoped>\n",
       "    .dataframe tbody tr th:only-of-type {\n",
       "        vertical-align: middle;\n",
       "    }\n",
       "\n",
       "    .dataframe tbody tr th {\n",
       "        vertical-align: top;\n",
       "    }\n",
       "\n",
       "    .dataframe thead th {\n",
       "        text-align: right;\n",
       "    }\n",
       "</style>\n",
       "<table border=\"1\" class=\"dataframe\">\n",
       "  <thead>\n",
       "    <tr style=\"text-align: right;\">\n",
       "      <th></th>\n",
       "      <th>url</th>\n",
       "      <th>desc</th>\n",
       "      <th>full_desc</th>\n",
       "      <th>requirements</th>\n",
       "      <th>popu_tags</th>\n",
       "    </tr>\n",
       "  </thead>\n",
       "  <tbody>\n",
       "    <tr>\n",
       "      <th>0</th>\n",
       "      <td>https://store.steampowered.com/app/945360/Amon...</td>\n",
       "      <td>An online and local party game of teamwork and...</td>\n",
       "      <td>About This GamePlay with 4-10 player online or...</td>\n",
       "      <td>System RequirementsMinimum:OS: Windows 7 SP1+P...</td>\n",
       "      <td>MultiplayerOnline Co-OpSpaceSocial DeductionSu...</td>\n",
       "    </tr>\n",
       "    <tr>\n",
       "      <th>1</th>\n",
       "      <td>https://store.steampowered.com/app/730/Counter...</td>\n",
       "      <td>Counter-Strike: Global Offensive (CS: GO) expa...</td>\n",
       "      <td>About This GameCounter-Strike: Global Offensiv...</td>\n",
       "      <td>System RequirementsWindowsMac OS XSteamOS + Li...</td>\n",
       "      <td>FPSShooterMultiplayerCompetitiveActionTeam-Bas...</td>\n",
       "    </tr>\n",
       "    <tr>\n",
       "      <th>2</th>\n",
       "      <td>https://store.steampowered.com/app/1097150/Fal...</td>\n",
       "      <td>Fall Guys is a massively multiplayer party gam...</td>\n",
       "      <td>About This GameFall Guys: Ultimate Knockout fl...</td>\n",
       "      <td>System RequirementsMinimum:Requires a 64-bit p...</td>\n",
       "      <td>MultiplayerFunnyBattle RoyaleOnline Co-OpFamil...</td>\n",
       "    </tr>\n",
       "    <tr>\n",
       "      <th>3</th>\n",
       "      <td>https://store.steampowered.com/app/1158310/Cru...</td>\n",
       "      <td>Paradox Development Studio brings you the sequ...</td>\n",
       "      <td>About This GameParadox Development Studio brin...</td>\n",
       "      <td>System RequirementsWindowsMac OS XSteamOS + Li...</td>\n",
       "      <td>StrategyRPGSimulationMedievalGrand StrategyHis...</td>\n",
       "    </tr>\n",
       "    <tr>\n",
       "      <th>4</th>\n",
       "      <td>https://store.steampowered.com/app/1085660/Des...</td>\n",
       "      <td>Destiny 2 is an action MMO with a single evolv...</td>\n",
       "      <td>About This GameDive into the world of Destiny ...</td>\n",
       "      <td>System RequirementsMinimum:Requires a 64-bit p...</td>\n",
       "      <td>Free to PlayLooter ShooterMultiplayerFPSAction...</td>\n",
       "    </tr>\n",
       "  </tbody>\n",
       "</table>\n",
       "</div>"
      ],
      "text/plain": [
       "                                                 url  \\\n",
       "0  https://store.steampowered.com/app/945360/Amon...   \n",
       "1  https://store.steampowered.com/app/730/Counter...   \n",
       "2  https://store.steampowered.com/app/1097150/Fal...   \n",
       "3  https://store.steampowered.com/app/1158310/Cru...   \n",
       "4  https://store.steampowered.com/app/1085660/Des...   \n",
       "\n",
       "                                                desc  \\\n",
       "0  An online and local party game of teamwork and...   \n",
       "1  Counter-Strike: Global Offensive (CS: GO) expa...   \n",
       "2  Fall Guys is a massively multiplayer party gam...   \n",
       "3  Paradox Development Studio brings you the sequ...   \n",
       "4  Destiny 2 is an action MMO with a single evolv...   \n",
       "\n",
       "                                           full_desc  \\\n",
       "0  About This GamePlay with 4-10 player online or...   \n",
       "1  About This GameCounter-Strike: Global Offensiv...   \n",
       "2  About This GameFall Guys: Ultimate Knockout fl...   \n",
       "3  About This GameParadox Development Studio brin...   \n",
       "4  About This GameDive into the world of Destiny ...   \n",
       "\n",
       "                                        requirements  \\\n",
       "0  System RequirementsMinimum:OS: Windows 7 SP1+P...   \n",
       "1  System RequirementsWindowsMac OS XSteamOS + Li...   \n",
       "2  System RequirementsMinimum:Requires a 64-bit p...   \n",
       "3  System RequirementsWindowsMac OS XSteamOS + Li...   \n",
       "4  System RequirementsMinimum:Requires a 64-bit p...   \n",
       "\n",
       "                                           popu_tags  \n",
       "0  MultiplayerOnline Co-OpSpaceSocial DeductionSu...  \n",
       "1  FPSShooterMultiplayerCompetitiveActionTeam-Bas...  \n",
       "2  MultiplayerFunnyBattle RoyaleOnline Co-OpFamil...  \n",
       "3  StrategyRPGSimulationMedievalGrand StrategyHis...  \n",
       "4  Free to PlayLooter ShooterMultiplayerFPSAction...  "
      ]
     },
     "execution_count": 15,
     "metadata": {},
     "output_type": "execute_result"
    }
   ],
   "source": [
    "game_content_df.head()"
   ]
  },
  {
   "cell_type": "code",
   "execution_count": 16,
   "id": "ff90e556",
   "metadata": {},
   "outputs": [
    {
     "data": {
      "text/html": [
       "<div>\n",
       "<style scoped>\n",
       "    .dataframe tbody tr th:only-of-type {\n",
       "        vertical-align: middle;\n",
       "    }\n",
       "\n",
       "    .dataframe tbody tr th {\n",
       "        vertical-align: top;\n",
       "    }\n",
       "\n",
       "    .dataframe thead th {\n",
       "        text-align: right;\n",
       "    }\n",
       "</style>\n",
       "<table border=\"1\" class=\"dataframe\">\n",
       "  <thead>\n",
       "    <tr style=\"text-align: right;\">\n",
       "      <th></th>\n",
       "      <th>id</th>\n",
       "      <th>game_name</th>\n",
       "      <th>behavior</th>\n",
       "      <th>played_hours</th>\n",
       "      <th>to_delete</th>\n",
       "    </tr>\n",
       "  </thead>\n",
       "  <tbody>\n",
       "    <tr>\n",
       "      <th>0</th>\n",
       "      <td>151603712</td>\n",
       "      <td>The Elder Scrolls V Skyrim</td>\n",
       "      <td>purchase</td>\n",
       "      <td>1.0</td>\n",
       "      <td>0</td>\n",
       "    </tr>\n",
       "    <tr>\n",
       "      <th>1</th>\n",
       "      <td>151603712</td>\n",
       "      <td>The Elder Scrolls V Skyrim</td>\n",
       "      <td>play</td>\n",
       "      <td>273.0</td>\n",
       "      <td>0</td>\n",
       "    </tr>\n",
       "    <tr>\n",
       "      <th>2</th>\n",
       "      <td>151603712</td>\n",
       "      <td>Fallout 4</td>\n",
       "      <td>purchase</td>\n",
       "      <td>1.0</td>\n",
       "      <td>0</td>\n",
       "    </tr>\n",
       "    <tr>\n",
       "      <th>3</th>\n",
       "      <td>151603712</td>\n",
       "      <td>Fallout 4</td>\n",
       "      <td>play</td>\n",
       "      <td>87.0</td>\n",
       "      <td>0</td>\n",
       "    </tr>\n",
       "    <tr>\n",
       "      <th>4</th>\n",
       "      <td>151603712</td>\n",
       "      <td>Spore</td>\n",
       "      <td>purchase</td>\n",
       "      <td>1.0</td>\n",
       "      <td>0</td>\n",
       "    </tr>\n",
       "  </tbody>\n",
       "</table>\n",
       "</div>"
      ],
      "text/plain": [
       "          id                   game_name  behavior  played_hours  to_delete\n",
       "0  151603712  The Elder Scrolls V Skyrim  purchase           1.0          0\n",
       "1  151603712  The Elder Scrolls V Skyrim      play         273.0          0\n",
       "2  151603712                   Fallout 4  purchase           1.0          0\n",
       "3  151603712                   Fallout 4      play          87.0          0\n",
       "4  151603712                       Spore  purchase           1.0          0"
      ]
     },
     "execution_count": 16,
     "metadata": {},
     "output_type": "execute_result"
    }
   ],
   "source": [
    "game_users_df.head()"
   ]
  },
  {
   "cell_type": "markdown",
   "id": "140a3bc5-99f2-4676-ad4e-b0eb386b1b0b",
   "metadata": {},
   "source": [
    "# Data cleaning "
   ]
  },
  {
   "cell_type": "markdown",
   "id": "1cf12c6f-7f8d-4b59-af98-20b917aa59f1",
   "metadata": {},
   "source": [
    "## Steam Users Data cleaning"
   ]
  },
  {
   "cell_type": "markdown",
   "id": "83fb640d-3ebb-4881-a1da-52e5befc0d87",
   "metadata": {},
   "source": [
    "- Users data have a weird column (last column), let's explore it and delete it if necessary."
   ]
  },
  {
   "cell_type": "code",
   "execution_count": 7,
   "id": "2f89f708-c6ff-4c5a-b4a2-b6f97386ebd9",
   "metadata": {},
   "outputs": [
    {
     "data": {
      "text/plain": [
       "count    200000.0\n",
       "mean          0.0\n",
       "std           0.0\n",
       "min           0.0\n",
       "25%           0.0\n",
       "50%           0.0\n",
       "75%           0.0\n",
       "max           0.0\n",
       "Name: to_delete, dtype: float64"
      ]
     },
     "execution_count": 7,
     "metadata": {},
     "output_type": "execute_result"
    }
   ],
   "source": [
    "game_users_df.to_delete.describe()"
   ]
  },
  {
   "cell_type": "code",
   "execution_count": 8,
   "id": "d297a75e-d20f-42fc-8dbd-c2a9bbc4f515",
   "metadata": {},
   "outputs": [],
   "source": [
    "game_users_df.drop(columns=['to_delete'], inplace=True)"
   ]
  },
  {
   "cell_type": "code",
   "execution_count": 9,
   "id": "99686fec-2d91-4b79-96d7-18130141b120",
   "metadata": {},
   "outputs": [
    {
     "data": {
      "text/html": [
       "<div>\n",
       "<style scoped>\n",
       "    .dataframe tbody tr th:only-of-type {\n",
       "        vertical-align: middle;\n",
       "    }\n",
       "\n",
       "    .dataframe tbody tr th {\n",
       "        vertical-align: top;\n",
       "    }\n",
       "\n",
       "    .dataframe thead th {\n",
       "        text-align: right;\n",
       "    }\n",
       "</style>\n",
       "<table border=\"1\" class=\"dataframe\">\n",
       "  <thead>\n",
       "    <tr style=\"text-align: right;\">\n",
       "      <th></th>\n",
       "      <th>id</th>\n",
       "      <th>game_name</th>\n",
       "      <th>behavior</th>\n",
       "      <th>played_hours</th>\n",
       "    </tr>\n",
       "  </thead>\n",
       "  <tbody>\n",
       "    <tr>\n",
       "      <th>0</th>\n",
       "      <td>151603712</td>\n",
       "      <td>The Elder Scrolls V Skyrim</td>\n",
       "      <td>purchase</td>\n",
       "      <td>1.0</td>\n",
       "    </tr>\n",
       "    <tr>\n",
       "      <th>1</th>\n",
       "      <td>151603712</td>\n",
       "      <td>The Elder Scrolls V Skyrim</td>\n",
       "      <td>play</td>\n",
       "      <td>273.0</td>\n",
       "    </tr>\n",
       "    <tr>\n",
       "      <th>2</th>\n",
       "      <td>151603712</td>\n",
       "      <td>Fallout 4</td>\n",
       "      <td>purchase</td>\n",
       "      <td>1.0</td>\n",
       "    </tr>\n",
       "    <tr>\n",
       "      <th>3</th>\n",
       "      <td>151603712</td>\n",
       "      <td>Fallout 4</td>\n",
       "      <td>play</td>\n",
       "      <td>87.0</td>\n",
       "    </tr>\n",
       "    <tr>\n",
       "      <th>4</th>\n",
       "      <td>151603712</td>\n",
       "      <td>Spore</td>\n",
       "      <td>purchase</td>\n",
       "      <td>1.0</td>\n",
       "    </tr>\n",
       "  </tbody>\n",
       "</table>\n",
       "</div>"
      ],
      "text/plain": [
       "          id                   game_name  behavior  played_hours\n",
       "0  151603712  The Elder Scrolls V Skyrim  purchase           1.0\n",
       "1  151603712  The Elder Scrolls V Skyrim      play         273.0\n",
       "2  151603712                   Fallout 4  purchase           1.0\n",
       "3  151603712                   Fallout 4      play          87.0\n",
       "4  151603712                       Spore  purchase           1.0"
      ]
     },
     "execution_count": 9,
     "metadata": {},
     "output_type": "execute_result"
    }
   ],
   "source": [
    "game_users_df.head()"
   ]
  },
  {
   "cell_type": "markdown",
   "id": "768f5e82-b5ea-49d5-b5d2-ca70b791bf71",
   "metadata": {},
   "source": [
    "- turns out it consists only of zeros, so we have to drop it.\n",
    "- additionally, the played hours conatins innacurate information. Purchasd games should have zero hours."
   ]
  },
  {
   "cell_type": "code",
   "execution_count": 10,
   "id": "eb28fe4f-7d4a-4f04-ba93-7837a513a5fa",
   "metadata": {},
   "outputs": [],
   "source": [
    "game_users_df.loc[game_users_df.behavior == 'purchase', 'played_hours'] = 0"
   ]
  },
  {
   "cell_type": "code",
   "execution_count": 11,
   "id": "642005c0-fbc5-4c55-86f7-1fa896182635",
   "metadata": {},
   "outputs": [
    {
     "data": {
      "text/html": [
       "<div>\n",
       "<style scoped>\n",
       "    .dataframe tbody tr th:only-of-type {\n",
       "        vertical-align: middle;\n",
       "    }\n",
       "\n",
       "    .dataframe tbody tr th {\n",
       "        vertical-align: top;\n",
       "    }\n",
       "\n",
       "    .dataframe thead th {\n",
       "        text-align: right;\n",
       "    }\n",
       "</style>\n",
       "<table border=\"1\" class=\"dataframe\">\n",
       "  <thead>\n",
       "    <tr style=\"text-align: right;\">\n",
       "      <th></th>\n",
       "      <th>id</th>\n",
       "      <th>game_name</th>\n",
       "      <th>behavior</th>\n",
       "      <th>played_hours</th>\n",
       "    </tr>\n",
       "  </thead>\n",
       "  <tbody>\n",
       "    <tr>\n",
       "      <th>0</th>\n",
       "      <td>151603712</td>\n",
       "      <td>The Elder Scrolls V Skyrim</td>\n",
       "      <td>purchase</td>\n",
       "      <td>0.0</td>\n",
       "    </tr>\n",
       "    <tr>\n",
       "      <th>1</th>\n",
       "      <td>151603712</td>\n",
       "      <td>The Elder Scrolls V Skyrim</td>\n",
       "      <td>play</td>\n",
       "      <td>273.0</td>\n",
       "    </tr>\n",
       "    <tr>\n",
       "      <th>2</th>\n",
       "      <td>151603712</td>\n",
       "      <td>Fallout 4</td>\n",
       "      <td>purchase</td>\n",
       "      <td>0.0</td>\n",
       "    </tr>\n",
       "    <tr>\n",
       "      <th>3</th>\n",
       "      <td>151603712</td>\n",
       "      <td>Fallout 4</td>\n",
       "      <td>play</td>\n",
       "      <td>87.0</td>\n",
       "    </tr>\n",
       "    <tr>\n",
       "      <th>4</th>\n",
       "      <td>151603712</td>\n",
       "      <td>Spore</td>\n",
       "      <td>purchase</td>\n",
       "      <td>0.0</td>\n",
       "    </tr>\n",
       "  </tbody>\n",
       "</table>\n",
       "</div>"
      ],
      "text/plain": [
       "          id                   game_name  behavior  played_hours\n",
       "0  151603712  The Elder Scrolls V Skyrim  purchase           0.0\n",
       "1  151603712  The Elder Scrolls V Skyrim      play         273.0\n",
       "2  151603712                   Fallout 4  purchase           0.0\n",
       "3  151603712                   Fallout 4      play          87.0\n",
       "4  151603712                       Spore  purchase           0.0"
      ]
     },
     "execution_count": 11,
     "metadata": {},
     "output_type": "execute_result"
    }
   ],
   "source": [
    "game_users_df.head()"
   ]
  },
  {
   "cell_type": "markdown",
   "id": "325fb309-2cb6-4161-8ff9-d6fcbf189f43",
   "metadata": {},
   "source": [
    "#### Save cleaned data to a dataframe"
   ]
  },
  {
   "cell_type": "code",
   "execution_count": 12,
   "id": "07433ac7-e3bd-490f-8ed2-a64de8eb0d18",
   "metadata": {},
   "outputs": [],
   "source": [
    "game_users_df.to_csv(r\"..\\Data\\users.csv\")"
   ]
  },
  {
   "cell_type": "code",
   "execution_count": 52,
   "id": "c54a7596-7ae3-480c-bb2b-38b45e0c0669",
   "metadata": {},
   "outputs": [
    {
     "data": {
      "text/plain": [
       "5155"
      ]
     },
     "execution_count": 52,
     "metadata": {},
     "output_type": "execute_result"
    }
   ],
   "source": [
    "to_crawl = list(game_users_df.game_name.unique())\n",
    "len(to_crawl)"
   ]
  },
  {
   "cell_type": "code",
   "execution_count": 126,
   "id": "3ea5729d-4bce-488b-af9f-ce051626de95",
   "metadata": {},
   "outputs": [],
   "source": [
    "#pd.DataFrame(to_crawl).to_csv(\"to_crawl_games.csv\")"
   ]
  },
  {
   "cell_type": "markdown",
   "id": "2797b781-8af9-4261-b1df-2a1cbbb7ed62",
   "metadata": {},
   "source": [
    "## Steam Data Cleaning"
   ]
  },
  {
   "cell_type": "markdown",
   "id": "a7a1a82a-b43a-4592-b0b4-5c6441b581f9",
   "metadata": {},
   "source": [
    "- some data have price of '-' means, they are deleted from steam store. (should we drop them?)"
   ]
  },
  {
   "cell_type": "code",
   "execution_count": 38,
   "id": "32259308-91b1-4b9f-83f4-cab74c8650f9",
   "metadata": {},
   "outputs": [
    {
     "data": {
      "text/html": [
       "<div>\n",
       "<style scoped>\n",
       "    .dataframe tbody tr th:only-of-type {\n",
       "        vertical-align: middle;\n",
       "    }\n",
       "\n",
       "    .dataframe tbody tr th {\n",
       "        vertical-align: top;\n",
       "    }\n",
       "\n",
       "    .dataframe thead th {\n",
       "        text-align: right;\n",
       "    }\n",
       "</style>\n",
       "<table border=\"1\" class=\"dataframe\">\n",
       "  <thead>\n",
       "    <tr style=\"text-align: right;\">\n",
       "      <th></th>\n",
       "      <th>url</th>\n",
       "    </tr>\n",
       "    <tr>\n",
       "      <th>price</th>\n",
       "      <th></th>\n",
       "    </tr>\n",
       "  </thead>\n",
       "  <tbody>\n",
       "    <tr>\n",
       "      <th>-</th>\n",
       "      <td>6363</td>\n",
       "    </tr>\n",
       "    <tr>\n",
       "      <th>Buy HELP: THE GAMEIncludes 13 items:10 Minute Tower, A Verdant Hue, Anthelion, BlockAid, Captain Curve's Intergalactic Space Adventure, Emily: Displaced, HELP: THE GAME, Malkia, NeverMine, Octamari Rescue, Rise, Savana, Splash BashPackage infoNT$ 480Add to Cart</th>\n",
       "      <td>16</td>\n",
       "    </tr>\n",
       "    <tr>\n",
       "      <th>Buy Fighter Pack 1NT$ 615Add to Cart</th>\n",
       "      <td>12</td>\n",
       "    </tr>\n",
       "    <tr>\n",
       "      <th>Buy Magic 2014 Sealed Slot 06-10Includes 5 items:Sealed Play Deck - Slot 06, Sealed Play Deck - Slot 07, Sealed Play Deck - Slot 08, Sealed Play Deck - Slot 09, Sealed Play Deck - Slot 10Package infoNT$ 172Add to Cart</th>\n",
       "      <td>10</td>\n",
       "    </tr>\n",
       "    <tr>\n",
       "      <th>Buy HITMAN™ - Game of The Year EditionBUNDLE(?)Includes 9 items:HITMAN™: Episode 2 - Sapienza, HITMAN™: Episode 3 - Marrakesh, HITMAN™ - Bonus Episode, HITMAN™: Episode 4 - Bangkok, HITMAN™: Episode 5 - Colorado, HITMAN™: Episode 6 - Hokkaido, HITMAN™: Episode 1 - Paris, HITMAN™ - Bonus Campaign Patient Zero, HITMAN™ - GOTY Outfit BundleBundle info-20%$59.11Add to CartAdd to Account</th>\n",
       "      <td>8</td>\n",
       "    </tr>\n",
       "    <tr>\n",
       "      <th>...</th>\n",
       "      <td>...</td>\n",
       "    </tr>\n",
       "    <tr>\n",
       "      <th>Buy Hypnospace Outlaw$19.99Add to Cart</th>\n",
       "      <td>1</td>\n",
       "    </tr>\n",
       "    <tr>\n",
       "      <th>Buy Hyposphere$2.99Add to Cart</th>\n",
       "      <td>1</td>\n",
       "    </tr>\n",
       "    <tr>\n",
       "      <th>Buy Hypt - Original SoundtrackNT$ 92Add to Cart</th>\n",
       "      <td>1</td>\n",
       "    </tr>\n",
       "    <tr>\n",
       "      <th>Buy Hyspherical 2NT$ 120Add to Cart</th>\n",
       "      <td>1</td>\n",
       "    </tr>\n",
       "    <tr>\n",
       "      <th>Yearly SubscriptionTo be billed on a recurring basis.Starting at $269.99 / 12 months $269.99 / 12 months $269.99 at checkout, auto-renewed every 12 month(s) at $269.99.$399.99 / 24 months-26% $399.99 at checkout, auto-renewed every 24 month(s) at $399.99.  Select a Subscription   Add to Cart  In Cart</th>\n",
       "      <td>1</td>\n",
       "    </tr>\n",
       "  </tbody>\n",
       "</table>\n",
       "<p>65682 rows × 1 columns</p>\n",
       "</div>"
      ],
      "text/plain": [
       "                                                     url\n",
       "price                                                   \n",
       "-                                                   6363\n",
       "Buy HELP: THE GAMEIncludes 13 items:10 Minute T...    16\n",
       "Buy Fighter Pack 1NT$ 615Add to Cart                  12\n",
       "Buy Magic 2014 Sealed Slot 06-10Includes 5 item...    10\n",
       "Buy HITMAN™ - Game of The Year EditionBUNDLE(?)...     8\n",
       "...                                                  ...\n",
       "Buy Hypnospace Outlaw$19.99Add to Cart                 1\n",
       "Buy Hyposphere$2.99Add to Cart                         1\n",
       "Buy Hypt - Original SoundtrackNT$ 92Add to Cart        1\n",
       "Buy Hyspherical 2NT$ 120Add to Cart                    1\n",
       "Yearly SubscriptionTo be billed on a recurring ...     1\n",
       "\n",
       "[65682 rows x 1 columns]"
      ]
     },
     "execution_count": 38,
     "metadata": {},
     "output_type": "execute_result"
    }
   ],
   "source": [
    "game_steam_df.groupby([game_steam_df['price']])[['url']].count().sort_values(by='url', ascending=False)"
   ]
  },
  {
   "cell_type": "code",
   "execution_count": 33,
   "id": "f5371b8e-4930-4995-a09b-6d360c05aed9",
   "metadata": {},
   "outputs": [
    {
     "data": {
      "text/plain": [
       "'https://store.steampowered.com/app/730770/Rivals_of_Aether_Ranno_and_Clairen/?snr=1_7_7_230_150_98'"
      ]
     },
     "execution_count": 33,
     "metadata": {},
     "output_type": "execute_result"
    }
   ],
   "source": [
    "game_steam_df[game_steam_df['price']=='-'].url.iloc[10]"
   ]
  },
  {
   "cell_type": "code",
   "execution_count": 46,
   "id": "f59ec4ac-0f20-4b2c-8413-86bbfafc9118",
   "metadata": {},
   "outputs": [
    {
     "data": {
      "text/plain": [
       "'Overwhelmingly Positive(224,878)- 95% of the 224,878 user reviews for this game are positive.'"
      ]
     },
     "execution_count": 46,
     "metadata": {},
     "output_type": "execute_result"
    }
   ],
   "source": [
    "game_steam_df.all_reviews.iloc[0]"
   ]
  },
  {
   "cell_type": "code",
   "execution_count": 43,
   "id": "3a7386bb-d443-4476-bdb0-cd72dd3819c5",
   "metadata": {},
   "outputs": [
    {
     "data": {
      "text/plain": [
       "'Overwhelmingly Positive(151,281)- 96% of the 151,281 user reviews in the last 30 days are positive.'"
      ]
     },
     "execution_count": 44,
     "metadata": {},
     "output_type": "execute_result"
    }
   ],
   "source": [
    "game_steam_df.users_reviews.iloc[0]"
   ]
  },
  {
   "cell_type": "code",
   "execution_count": null,
   "id": "6637bbae-0350-4854-b2a8-1c7986f304c7",
   "metadata": {},
   "outputs": [],
   "source": []
  }
 ],
 "metadata": {
  "kernelspec": {
   "display_name": "Python 3 (ipykernel)",
   "language": "python",
   "name": "python3"
  },
  "language_info": {
   "codemirror_mode": {
    "name": "ipython",
    "version": 3
   },
   "file_extension": ".py",
   "mimetype": "text/x-python",
   "name": "python",
   "nbconvert_exporter": "python",
   "pygments_lexer": "ipython3",
   "version": "3.8.11"
  }
 },
 "nbformat": 4,
 "nbformat_minor": 5
}
