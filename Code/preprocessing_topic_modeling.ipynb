{
 "cells": [
  {
   "cell_type": "markdown",
   "id": "c2e74d03-8820-43cc-a82c-a1df3c3ed349",
   "metadata": {},
   "source": [
    "## imports"
   ]
  },
  {
   "cell_type": "code",
   "execution_count": 1,
   "id": "1438941c-fabd-47d6-bff1-11960ff6c7b0",
   "metadata": {},
   "outputs": [],
   "source": [
    "import nltk\n",
    "import numpy as np\n",
    "import pandas as pd\n",
    "import re\n",
    "import string\n",
    "from nltk.corpus import stopwords\n",
    "from sklearn.feature_extraction.text import TfidfVectorizer"
   ]
  },
  {
   "cell_type": "code",
   "execution_count": 270,
   "id": "e9638624-e111-44ba-9cce-88b48977a641",
   "metadata": {},
   "outputs": [],
   "source": [
    "import matplotlib.pyplot as plt"
   ]
  },
  {
   "cell_type": "code",
   "execution_count": 2,
   "id": "e3515ca8-9e38-4b9e-af48-4d627b79edd1",
   "metadata": {},
   "outputs": [],
   "source": [
    "steam       = pd.read_csv(r\"C:\\Users\\elaaf\\Desktop\\SDS\\project_4_data\\steam.csv\")\n",
    "description = pd.read_csv(r\"C:\\Users\\elaaf\\Desktop\\SDS\\project_4_data\\steam_description_data.csv\")"
   ]
  },
  {
   "cell_type": "code",
   "execution_count": 6,
   "id": "1bd3ece1-57ff-4fa1-86a1-ce7646ee7847",
   "metadata": {},
   "outputs": [
    {
     "data": {
      "text/html": [
       "<div>\n",
       "<style scoped>\n",
       "    .dataframe tbody tr th:only-of-type {\n",
       "        vertical-align: middle;\n",
       "    }\n",
       "\n",
       "    .dataframe tbody tr th {\n",
       "        vertical-align: top;\n",
       "    }\n",
       "\n",
       "    .dataframe thead th {\n",
       "        text-align: right;\n",
       "    }\n",
       "</style>\n",
       "<table border=\"1\" class=\"dataframe\">\n",
       "  <thead>\n",
       "    <tr style=\"text-align: right;\">\n",
       "      <th></th>\n",
       "      <th>appid</th>\n",
       "      <th>name</th>\n",
       "      <th>release_date</th>\n",
       "      <th>english</th>\n",
       "      <th>developer</th>\n",
       "      <th>publisher</th>\n",
       "      <th>platforms</th>\n",
       "      <th>required_age</th>\n",
       "      <th>categories</th>\n",
       "      <th>genres</th>\n",
       "      <th>steamspy_tags</th>\n",
       "      <th>achievements</th>\n",
       "      <th>positive_ratings</th>\n",
       "      <th>negative_ratings</th>\n",
       "      <th>average_playtime</th>\n",
       "      <th>median_playtime</th>\n",
       "      <th>owners</th>\n",
       "      <th>price</th>\n",
       "    </tr>\n",
       "  </thead>\n",
       "  <tbody>\n",
       "    <tr>\n",
       "      <th>0</th>\n",
       "      <td>10</td>\n",
       "      <td>Counter-Strike</td>\n",
       "      <td>2000-11-01</td>\n",
       "      <td>1</td>\n",
       "      <td>Valve</td>\n",
       "      <td>Valve</td>\n",
       "      <td>windows;mac;linux</td>\n",
       "      <td>0</td>\n",
       "      <td>Multi-player;Online Multi-Player;Local Multi-P...</td>\n",
       "      <td>Action</td>\n",
       "      <td>Action;FPS;Multiplayer</td>\n",
       "      <td>0</td>\n",
       "      <td>124534</td>\n",
       "      <td>3339</td>\n",
       "      <td>17612</td>\n",
       "      <td>317</td>\n",
       "      <td>10000000-20000000</td>\n",
       "      <td>7.19</td>\n",
       "    </tr>\n",
       "    <tr>\n",
       "      <th>1</th>\n",
       "      <td>20</td>\n",
       "      <td>Team Fortress Classic</td>\n",
       "      <td>1999-04-01</td>\n",
       "      <td>1</td>\n",
       "      <td>Valve</td>\n",
       "      <td>Valve</td>\n",
       "      <td>windows;mac;linux</td>\n",
       "      <td>0</td>\n",
       "      <td>Multi-player;Online Multi-Player;Local Multi-P...</td>\n",
       "      <td>Action</td>\n",
       "      <td>Action;FPS;Multiplayer</td>\n",
       "      <td>0</td>\n",
       "      <td>3318</td>\n",
       "      <td>633</td>\n",
       "      <td>277</td>\n",
       "      <td>62</td>\n",
       "      <td>5000000-10000000</td>\n",
       "      <td>3.99</td>\n",
       "    </tr>\n",
       "    <tr>\n",
       "      <th>2</th>\n",
       "      <td>30</td>\n",
       "      <td>Day of Defeat</td>\n",
       "      <td>2003-05-01</td>\n",
       "      <td>1</td>\n",
       "      <td>Valve</td>\n",
       "      <td>Valve</td>\n",
       "      <td>windows;mac;linux</td>\n",
       "      <td>0</td>\n",
       "      <td>Multi-player;Valve Anti-Cheat enabled</td>\n",
       "      <td>Action</td>\n",
       "      <td>FPS;World War II;Multiplayer</td>\n",
       "      <td>0</td>\n",
       "      <td>3416</td>\n",
       "      <td>398</td>\n",
       "      <td>187</td>\n",
       "      <td>34</td>\n",
       "      <td>5000000-10000000</td>\n",
       "      <td>3.99</td>\n",
       "    </tr>\n",
       "    <tr>\n",
       "      <th>3</th>\n",
       "      <td>40</td>\n",
       "      <td>Deathmatch Classic</td>\n",
       "      <td>2001-06-01</td>\n",
       "      <td>1</td>\n",
       "      <td>Valve</td>\n",
       "      <td>Valve</td>\n",
       "      <td>windows;mac;linux</td>\n",
       "      <td>0</td>\n",
       "      <td>Multi-player;Online Multi-Player;Local Multi-P...</td>\n",
       "      <td>Action</td>\n",
       "      <td>Action;FPS;Multiplayer</td>\n",
       "      <td>0</td>\n",
       "      <td>1273</td>\n",
       "      <td>267</td>\n",
       "      <td>258</td>\n",
       "      <td>184</td>\n",
       "      <td>5000000-10000000</td>\n",
       "      <td>3.99</td>\n",
       "    </tr>\n",
       "    <tr>\n",
       "      <th>4</th>\n",
       "      <td>50</td>\n",
       "      <td>Half-Life: Opposing Force</td>\n",
       "      <td>1999-11-01</td>\n",
       "      <td>1</td>\n",
       "      <td>Gearbox Software</td>\n",
       "      <td>Valve</td>\n",
       "      <td>windows;mac;linux</td>\n",
       "      <td>0</td>\n",
       "      <td>Single-player;Multi-player;Valve Anti-Cheat en...</td>\n",
       "      <td>Action</td>\n",
       "      <td>FPS;Action;Sci-fi</td>\n",
       "      <td>0</td>\n",
       "      <td>5250</td>\n",
       "      <td>288</td>\n",
       "      <td>624</td>\n",
       "      <td>415</td>\n",
       "      <td>5000000-10000000</td>\n",
       "      <td>3.99</td>\n",
       "    </tr>\n",
       "  </tbody>\n",
       "</table>\n",
       "</div>"
      ],
      "text/plain": [
       "   appid                       name release_date  english         developer  \\\n",
       "0     10             Counter-Strike   2000-11-01        1             Valve   \n",
       "1     20      Team Fortress Classic   1999-04-01        1             Valve   \n",
       "2     30              Day of Defeat   2003-05-01        1             Valve   \n",
       "3     40         Deathmatch Classic   2001-06-01        1             Valve   \n",
       "4     50  Half-Life: Opposing Force   1999-11-01        1  Gearbox Software   \n",
       "\n",
       "  publisher          platforms  required_age  \\\n",
       "0     Valve  windows;mac;linux             0   \n",
       "1     Valve  windows;mac;linux             0   \n",
       "2     Valve  windows;mac;linux             0   \n",
       "3     Valve  windows;mac;linux             0   \n",
       "4     Valve  windows;mac;linux             0   \n",
       "\n",
       "                                          categories  genres  \\\n",
       "0  Multi-player;Online Multi-Player;Local Multi-P...  Action   \n",
       "1  Multi-player;Online Multi-Player;Local Multi-P...  Action   \n",
       "2              Multi-player;Valve Anti-Cheat enabled  Action   \n",
       "3  Multi-player;Online Multi-Player;Local Multi-P...  Action   \n",
       "4  Single-player;Multi-player;Valve Anti-Cheat en...  Action   \n",
       "\n",
       "                  steamspy_tags  achievements  positive_ratings  \\\n",
       "0        Action;FPS;Multiplayer             0            124534   \n",
       "1        Action;FPS;Multiplayer             0              3318   \n",
       "2  FPS;World War II;Multiplayer             0              3416   \n",
       "3        Action;FPS;Multiplayer             0              1273   \n",
       "4             FPS;Action;Sci-fi             0              5250   \n",
       "\n",
       "   negative_ratings  average_playtime  median_playtime             owners  \\\n",
       "0              3339             17612              317  10000000-20000000   \n",
       "1               633               277               62   5000000-10000000   \n",
       "2               398               187               34   5000000-10000000   \n",
       "3               267               258              184   5000000-10000000   \n",
       "4               288               624              415   5000000-10000000   \n",
       "\n",
       "   price  \n",
       "0   7.19  \n",
       "1   3.99  \n",
       "2   3.99  \n",
       "3   3.99  \n",
       "4   3.99  "
      ]
     },
     "execution_count": 3,
     "metadata": {},
     "output_type": "execute_result"
    }
   ],
   "source": [
    "steam.head()"
   ]
  },
  {
   "cell_type": "code",
   "execution_count": 5,
   "id": "f285d9ae-585d-4c52-8cd7-6e356c07b501",
   "metadata": {},
   "outputs": [
    {
     "data": {
      "text/plain": [
       "Index(['steam_appid', 'detailed_description', 'about_the_game',\n",
       "       'short_description'],\n",
       "      dtype='object')"
      ]
     },
     "execution_count": 4,
     "metadata": {},
     "output_type": "execute_result"
    }
   ],
   "source": [
    "description.columns"
   ]
  },
  {
   "cell_type": "code",
   "execution_count": 8,
   "id": "7eddfc72-c7b6-4d5e-bcd7-399019e05006",
   "metadata": {},
   "outputs": [
    {
     "data": {
      "text/plain": [
       "1552"
      ]
     },
     "execution_count": 5,
     "metadata": {},
     "output_type": "execute_result"
    }
   ],
   "source": [
    "len(list(steam.genres.unique()))"
   ]
  },
  {
   "cell_type": "code",
   "execution_count": 13,
   "id": "2a63aedb-fae0-414b-bf7e-5559ccb4ddb9",
   "metadata": {},
   "outputs": [],
   "source": [
    "df_geners = steam.groupby([\"genres\"])[\"appid\"].count().sort_values(ascending=False).to_frame().reset_index()"
   ]
  },
  {
   "cell_type": "code",
   "execution_count": 15,
   "id": "4139643a-25e1-4723-ad9d-31329e949348",
   "metadata": {},
   "outputs": [
    {
     "data": {
      "text/html": [
       "<div>\n",
       "<style scoped>\n",
       "    .dataframe tbody tr th:only-of-type {\n",
       "        vertical-align: middle;\n",
       "    }\n",
       "\n",
       "    .dataframe tbody tr th {\n",
       "        vertical-align: top;\n",
       "    }\n",
       "\n",
       "    .dataframe thead th {\n",
       "        text-align: right;\n",
       "    }\n",
       "</style>\n",
       "<table border=\"1\" class=\"dataframe\">\n",
       "  <thead>\n",
       "    <tr style=\"text-align: right;\">\n",
       "      <th></th>\n",
       "      <th>genres</th>\n",
       "      <th>appid</th>\n",
       "    </tr>\n",
       "  </thead>\n",
       "  <tbody>\n",
       "    <tr>\n",
       "      <th>0</th>\n",
       "      <td>Action;Indie</td>\n",
       "      <td>1852</td>\n",
       "    </tr>\n",
       "    <tr>\n",
       "      <th>1</th>\n",
       "      <td>Casual;Indie</td>\n",
       "      <td>1482</td>\n",
       "    </tr>\n",
       "    <tr>\n",
       "      <th>2</th>\n",
       "      <td>Action;Adventure;Indie</td>\n",
       "      <td>1229</td>\n",
       "    </tr>\n",
       "    <tr>\n",
       "      <th>3</th>\n",
       "      <td>Adventure;Indie</td>\n",
       "      <td>1170</td>\n",
       "    </tr>\n",
       "    <tr>\n",
       "      <th>4</th>\n",
       "      <td>Action;Casual;Indie</td>\n",
       "      <td>1004</td>\n",
       "    </tr>\n",
       "  </tbody>\n",
       "</table>\n",
       "</div>"
      ],
      "text/plain": [
       "                   genres  appid\n",
       "0            Action;Indie   1852\n",
       "1            Casual;Indie   1482\n",
       "2  Action;Adventure;Indie   1229\n",
       "3         Adventure;Indie   1170\n",
       "4     Action;Casual;Indie   1004"
      ]
     },
     "execution_count": 7,
     "metadata": {},
     "output_type": "execute_result"
    }
   ],
   "source": [
    "df_geners.head()"
   ]
  },
  {
   "cell_type": "markdown",
   "id": "3577c5f6-1be5-411f-ad79-90608d5a8b4a",
   "metadata": {},
   "source": [
    "## 1. Remove less frequent tags"
   ]
  },
  {
   "cell_type": "code",
   "execution_count": 41,
   "id": "d88f150f-c09f-4b99-8aff-5266dcf1c916",
   "metadata": {},
   "outputs": [
    {
     "data": {
      "text/html": [
       "<div>\n",
       "<style scoped>\n",
       "    .dataframe tbody tr th:only-of-type {\n",
       "        vertical-align: middle;\n",
       "    }\n",
       "\n",
       "    .dataframe tbody tr th {\n",
       "        vertical-align: top;\n",
       "    }\n",
       "\n",
       "    .dataframe thead th {\n",
       "        text-align: right;\n",
       "    }\n",
       "</style>\n",
       "<table border=\"1\" class=\"dataframe\">\n",
       "  <thead>\n",
       "    <tr style=\"text-align: right;\">\n",
       "      <th></th>\n",
       "      <th>genres</th>\n",
       "      <th>appid</th>\n",
       "    </tr>\n",
       "  </thead>\n",
       "  <tbody>\n",
       "    <tr>\n",
       "      <th>5</th>\n",
       "      <td>Action</td>\n",
       "      <td>843</td>\n",
       "    </tr>\n",
       "    <tr>\n",
       "      <th>7</th>\n",
       "      <td>Indie</td>\n",
       "      <td>759</td>\n",
       "    </tr>\n",
       "    <tr>\n",
       "      <th>8</th>\n",
       "      <td>Casual</td>\n",
       "      <td>560</td>\n",
       "    </tr>\n",
       "    <tr>\n",
       "      <th>9</th>\n",
       "      <td>Adventure</td>\n",
       "      <td>535</td>\n",
       "    </tr>\n",
       "    <tr>\n",
       "      <th>11</th>\n",
       "      <td>Strategy</td>\n",
       "      <td>485</td>\n",
       "    </tr>\n",
       "    <tr>\n",
       "      <th>19</th>\n",
       "      <td>Simulation</td>\n",
       "      <td>328</td>\n",
       "    </tr>\n",
       "    <tr>\n",
       "      <th>21</th>\n",
       "      <td>RPG</td>\n",
       "      <td>270</td>\n",
       "    </tr>\n",
       "    <tr>\n",
       "      <th>49</th>\n",
       "      <td>Racing</td>\n",
       "      <td>86</td>\n",
       "    </tr>\n",
       "    <tr>\n",
       "      <th>59</th>\n",
       "      <td>Sports</td>\n",
       "      <td>63</td>\n",
       "    </tr>\n",
       "    <tr>\n",
       "      <th>89</th>\n",
       "      <td>Utilities</td>\n",
       "      <td>44</td>\n",
       "    </tr>\n",
       "    <tr>\n",
       "      <th>109</th>\n",
       "      <td>Free to Play</td>\n",
       "      <td>32</td>\n",
       "    </tr>\n",
       "    <tr>\n",
       "      <th>269</th>\n",
       "      <td>Early Access</td>\n",
       "      <td>9</td>\n",
       "    </tr>\n",
       "    <tr>\n",
       "      <th>281</th>\n",
       "      <td>Education</td>\n",
       "      <td>8</td>\n",
       "    </tr>\n",
       "    <tr>\n",
       "      <th>390</th>\n",
       "      <td>Design &amp; Illustration</td>\n",
       "      <td>5</td>\n",
       "    </tr>\n",
       "    <tr>\n",
       "      <th>394</th>\n",
       "      <td>Video Production</td>\n",
       "      <td>5</td>\n",
       "    </tr>\n",
       "    <tr>\n",
       "      <th>448</th>\n",
       "      <td>Audio Production</td>\n",
       "      <td>4</td>\n",
       "    </tr>\n",
       "    <tr>\n",
       "      <th>532</th>\n",
       "      <td>Animation &amp; Modeling</td>\n",
       "      <td>3</td>\n",
       "    </tr>\n",
       "    <tr>\n",
       "      <th>780</th>\n",
       "      <td>Violent</td>\n",
       "      <td>2</td>\n",
       "    </tr>\n",
       "    <tr>\n",
       "      <th>1323</th>\n",
       "      <td>Gore</td>\n",
       "      <td>1</td>\n",
       "    </tr>\n",
       "    <tr>\n",
       "      <th>1551</th>\n",
       "      <td>Web Publishing</td>\n",
       "      <td>1</td>\n",
       "    </tr>\n",
       "  </tbody>\n",
       "</table>\n",
       "</div>"
      ],
      "text/plain": [
       "                     genres  appid\n",
       "5                    Action    843\n",
       "7                     Indie    759\n",
       "8                    Casual    560\n",
       "9                 Adventure    535\n",
       "11                 Strategy    485\n",
       "19               Simulation    328\n",
       "21                      RPG    270\n",
       "49                   Racing     86\n",
       "59                   Sports     63\n",
       "89                Utilities     44\n",
       "109            Free to Play     32\n",
       "269            Early Access      9\n",
       "281               Education      8\n",
       "390   Design & Illustration      5\n",
       "394        Video Production      5\n",
       "448        Audio Production      4\n",
       "532    Animation & Modeling      3\n",
       "780                 Violent      2\n",
       "1323                   Gore      1\n",
       "1551         Web Publishing      1"
      ]
     },
     "execution_count": 8,
     "metadata": {},
     "output_type": "execute_result"
    }
   ],
   "source": [
    "mask = [';' not in i for i in list(df_geners.genres)]\n",
    "df_geners[mask]"
   ]
  },
  {
   "cell_type": "code",
   "execution_count": 43,
   "id": "92f09e30-a858-4bcb-9f4f-4c7a3e4cef79",
   "metadata": {},
   "outputs": [
    {
     "data": {
      "text/plain": [
       "['Action',\n",
       " 'Indie',\n",
       " 'Casual',\n",
       " 'Adventure',\n",
       " 'Strategy',\n",
       " 'Simulation',\n",
       " 'RPG',\n",
       " 'Racing',\n",
       " 'Sports',\n",
       " 'Utilities',\n",
       " 'Free to Play',\n",
       " 'Early Access',\n",
       " 'Education',\n",
       " 'Design & Illustration',\n",
       " 'Video Production',\n",
       " 'Audio Production',\n",
       " 'Animation & Modeling',\n",
       " 'Violent',\n",
       " 'Gore',\n",
       " 'Web Publishing']"
      ]
     },
     "execution_count": 9,
     "metadata": {},
     "output_type": "execute_result"
    }
   ],
   "source": [
    "list(df_geners[mask].genres)"
   ]
  },
  {
   "cell_type": "code",
   "execution_count": 44,
   "id": "459b54b4-23df-40b1-9380-60392934ad76",
   "metadata": {},
   "outputs": [],
   "source": [
    "tags_to_remove = [ 'Utilities',\n",
    " 'Free to Play',\n",
    " 'Early Access',\n",
    " 'Education',\n",
    " 'Design & Illustration',\n",
    " 'Video Production',\n",
    " 'Audio Production',\n",
    " 'Animation & Modeling',\n",
    " 'Violent',\n",
    " 'Gore',\n",
    " 'Web Publishing']"
   ]
  },
  {
   "cell_type": "code",
   "execution_count": 127,
   "id": "2e085f6b-555f-4746-a105-3adf4ec37483",
   "metadata": {},
   "outputs": [],
   "source": [
    "data = steam.copy(deep=True)"
   ]
  },
  {
   "cell_type": "code",
   "execution_count": 128,
   "id": "03a66fde-b93b-4fba-a002-1f5ebba90bdd",
   "metadata": {},
   "outputs": [
    {
     "data": {
      "text/plain": [
       "(27075, 18)"
      ]
     },
     "execution_count": 128,
     "metadata": {},
     "output_type": "execute_result"
    }
   ],
   "source": [
    "data.shape"
   ]
  },
  {
   "cell_type": "code",
   "execution_count": 129,
   "id": "2e06d3eb-445b-4a04-b87a-3c5ac8c83d57",
   "metadata": {},
   "outputs": [],
   "source": [
    "for tag in tags_to_remove:\n",
    "    data.drop(data[(data[\"genres\"]==tag)].index, axis=0, inplace=True)"
   ]
  },
  {
   "cell_type": "code",
   "execution_count": 130,
   "id": "efad539d-bcc7-4004-afa8-8ec7b4e69b21",
   "metadata": {},
   "outputs": [
    {
     "data": {
      "text/plain": [
       "(26961, 18)"
      ]
     },
     "execution_count": 130,
     "metadata": {},
     "output_type": "execute_result"
    }
   ],
   "source": [
    "data.shape"
   ]
  },
  {
   "cell_type": "markdown",
   "id": "fbdaa516-59e9-4dcf-8548-b13120f61925",
   "metadata": {},
   "source": [
    "## 2. Remove any tag that wasn't in our main tags"
   ]
  },
  {
   "cell_type": "code",
   "execution_count": 131,
   "id": "73d44212-2493-4d90-a066-12ca4a75eb85",
   "metadata": {},
   "outputs": [
    {
     "data": {
      "text/html": [
       "<div>\n",
       "<style scoped>\n",
       "    .dataframe tbody tr th:only-of-type {\n",
       "        vertical-align: middle;\n",
       "    }\n",
       "\n",
       "    .dataframe tbody tr th {\n",
       "        vertical-align: top;\n",
       "    }\n",
       "\n",
       "    .dataframe thead th {\n",
       "        text-align: right;\n",
       "    }\n",
       "</style>\n",
       "<table border=\"1\" class=\"dataframe\">\n",
       "  <thead>\n",
       "    <tr style=\"text-align: right;\">\n",
       "      <th></th>\n",
       "      <th>genres</th>\n",
       "      <th>appid</th>\n",
       "    </tr>\n",
       "  </thead>\n",
       "  <tbody>\n",
       "    <tr>\n",
       "      <th>0</th>\n",
       "      <td>Action</td>\n",
       "      <td>843</td>\n",
       "    </tr>\n",
       "    <tr>\n",
       "      <th>1</th>\n",
       "      <td>Indie</td>\n",
       "      <td>759</td>\n",
       "    </tr>\n",
       "    <tr>\n",
       "      <th>2</th>\n",
       "      <td>Casual</td>\n",
       "      <td>560</td>\n",
       "    </tr>\n",
       "    <tr>\n",
       "      <th>3</th>\n",
       "      <td>Adventure</td>\n",
       "      <td>535</td>\n",
       "    </tr>\n",
       "    <tr>\n",
       "      <th>4</th>\n",
       "      <td>Strategy</td>\n",
       "      <td>485</td>\n",
       "    </tr>\n",
       "    <tr>\n",
       "      <th>5</th>\n",
       "      <td>Simulation</td>\n",
       "      <td>328</td>\n",
       "    </tr>\n",
       "    <tr>\n",
       "      <th>6</th>\n",
       "      <td>RPG</td>\n",
       "      <td>270</td>\n",
       "    </tr>\n",
       "    <tr>\n",
       "      <th>7</th>\n",
       "      <td>Racing</td>\n",
       "      <td>86</td>\n",
       "    </tr>\n",
       "    <tr>\n",
       "      <th>8</th>\n",
       "      <td>Sports</td>\n",
       "      <td>63</td>\n",
       "    </tr>\n",
       "  </tbody>\n",
       "</table>\n",
       "</div>"
      ],
      "text/plain": [
       "       genres  appid\n",
       "0      Action    843\n",
       "1       Indie    759\n",
       "2      Casual    560\n",
       "3   Adventure    535\n",
       "4    Strategy    485\n",
       "5  Simulation    328\n",
       "6         RPG    270\n",
       "7      Racing     86\n",
       "8      Sports     63"
      ]
     },
     "execution_count": 131,
     "metadata": {},
     "output_type": "execute_result"
    }
   ],
   "source": [
    "mask = [';' not in i for i in list(data.genres)]\n",
    "df = data[mask].groupby([\"genres\"])[\"appid\"].count().sort_values(ascending=False).to_frame().reset_index()\n",
    "df.head(10)"
   ]
  },
  {
   "cell_type": "code",
   "execution_count": 132,
   "id": "f7451cbe-f074-4f06-80d3-b57f1631041c",
   "metadata": {},
   "outputs": [
    {
     "data": {
      "text/plain": [
       "{'Action',\n",
       " 'Adventure',\n",
       " 'Casual',\n",
       " 'Indie',\n",
       " 'RPG',\n",
       " 'Racing',\n",
       " 'Simulation',\n",
       " 'Sports',\n",
       " 'Strategy'}"
      ]
     },
     "execution_count": 132,
     "metadata": {},
     "output_type": "execute_result"
    }
   ],
   "source": [
    "tags_set = set(df[\"genres\"])\n",
    "tags_set #topics"
   ]
  },
  {
   "cell_type": "markdown",
   "id": "cf808e23-8fdd-4566-bfda-c533cbe7e328",
   "metadata": {},
   "source": [
    "### There are some tags that aren't in our tag list (irrelevent topics)\n",
    "like the following tags: Animation & Modeling and Video Production"
   ]
  },
  {
   "cell_type": "code",
   "execution_count": 133,
   "id": "a3e26cab-379f-4e93-b4e5-e6582371809c",
   "metadata": {
    "tags": []
   },
   "outputs": [
    {
     "data": {
      "text/plain": [
       "[['RPG'],\n",
       " ['Animation & Modeling', 'Video Production'],\n",
       " ['Strategy'],\n",
       " ['RPG'],\n",
       " ['Action', 'RPG']]"
      ]
     },
     "execution_count": 133,
     "metadata": {},
     "output_type": "execute_result"
    }
   ],
   "source": [
    "all_tags = [i.split(\";\") for i in list(data.genres)]\n",
    "all_tags[40:45]"
   ]
  },
  {
   "cell_type": "code",
   "execution_count": 134,
   "id": "4f305fa9-e9f5-4c58-91ed-838e9798629e",
   "metadata": {},
   "outputs": [],
   "source": [
    "#input:   dataframe with unwanted tags to remove\n",
    "#output:  dataframe with edited tags\n",
    "#purpose: \n",
    "\n",
    "def remove_unimportant_tags(df, tags):\n",
    "    \n",
    "    splitted_tags = [txt.split(\";\") for txt in list(df.genres)]\n",
    "    new_tags = []\n",
    "    \n",
    "    for game in splitted_tags:\n",
    "        \n",
    "        temp = []\n",
    "        for tag in game:\n",
    "            if tag in tags:\n",
    "                temp.append(tag)\n",
    "        new_tags.append(temp)\n",
    "        \n",
    "    return new_tags\n"
   ]
  },
  {
   "cell_type": "code",
   "execution_count": 135,
   "id": "ea9f566d-ec56-4dfd-a428-794ba7eacc39",
   "metadata": {},
   "outputs": [],
   "source": [
    "mask =  [ len(b) != len(tags_set.intersection(b)) for b in all_tags ]\n",
    "#tags that wasn't present in the main tags"
   ]
  },
  {
   "cell_type": "code",
   "execution_count": 136,
   "id": "326cdab4-5379-4944-95b0-da8e5119afe5",
   "metadata": {},
   "outputs": [
    {
     "data": {
      "text/html": [
       "<div>\n",
       "<style scoped>\n",
       "    .dataframe tbody tr th:only-of-type {\n",
       "        vertical-align: middle;\n",
       "    }\n",
       "\n",
       "    .dataframe tbody tr th {\n",
       "        vertical-align: top;\n",
       "    }\n",
       "\n",
       "    .dataframe thead th {\n",
       "        text-align: right;\n",
       "    }\n",
       "</style>\n",
       "<table border=\"1\" class=\"dataframe\">\n",
       "  <thead>\n",
       "    <tr style=\"text-align: right;\">\n",
       "      <th></th>\n",
       "      <th>appid</th>\n",
       "      <th>name</th>\n",
       "      <th>release_date</th>\n",
       "      <th>english</th>\n",
       "      <th>developer</th>\n",
       "      <th>publisher</th>\n",
       "      <th>platforms</th>\n",
       "      <th>required_age</th>\n",
       "      <th>categories</th>\n",
       "      <th>genres</th>\n",
       "      <th>steamspy_tags</th>\n",
       "      <th>achievements</th>\n",
       "      <th>positive_ratings</th>\n",
       "      <th>negative_ratings</th>\n",
       "      <th>average_playtime</th>\n",
       "      <th>median_playtime</th>\n",
       "      <th>owners</th>\n",
       "      <th>price</th>\n",
       "    </tr>\n",
       "  </thead>\n",
       "  <tbody>\n",
       "    <tr>\n",
       "      <th>19</th>\n",
       "      <td>440</td>\n",
       "      <td>Team Fortress 2</td>\n",
       "      <td>2007-10-10</td>\n",
       "      <td>1</td>\n",
       "      <td>Valve</td>\n",
       "      <td>Valve</td>\n",
       "      <td>windows;mac;linux</td>\n",
       "      <td>0</td>\n",
       "      <td>Multi-player;Cross-Platform Multiplayer;Steam ...</td>\n",
       "      <td>Action;Free to Play</td>\n",
       "      <td>Free to Play;Multiplayer;FPS</td>\n",
       "      <td>520</td>\n",
       "      <td>515879</td>\n",
       "      <td>34036</td>\n",
       "      <td>8495</td>\n",
       "      <td>623</td>\n",
       "      <td>20000000-50000000</td>\n",
       "      <td>0.0</td>\n",
       "    </tr>\n",
       "    <tr>\n",
       "      <th>22</th>\n",
       "      <td>570</td>\n",
       "      <td>Dota 2</td>\n",
       "      <td>2013-07-09</td>\n",
       "      <td>1</td>\n",
       "      <td>Valve</td>\n",
       "      <td>Valve</td>\n",
       "      <td>windows;mac;linux</td>\n",
       "      <td>0</td>\n",
       "      <td>Multi-player;Co-op;Steam Trading Cards;Steam W...</td>\n",
       "      <td>Action;Free to Play;Strategy</td>\n",
       "      <td>Free to Play;MOBA;Strategy</td>\n",
       "      <td>0</td>\n",
       "      <td>863507</td>\n",
       "      <td>142079</td>\n",
       "      <td>23944</td>\n",
       "      <td>801</td>\n",
       "      <td>100000000-200000000</td>\n",
       "      <td>0.0</td>\n",
       "    </tr>\n",
       "    <tr>\n",
       "      <th>25</th>\n",
       "      <td>730</td>\n",
       "      <td>Counter-Strike: Global Offensive</td>\n",
       "      <td>2012-08-21</td>\n",
       "      <td>1</td>\n",
       "      <td>Valve;Hidden Path Entertainment</td>\n",
       "      <td>Valve</td>\n",
       "      <td>windows;mac;linux</td>\n",
       "      <td>0</td>\n",
       "      <td>Multi-player;Steam Achievements;Full controlle...</td>\n",
       "      <td>Action;Free to Play</td>\n",
       "      <td>FPS;Multiplayer;Shooter</td>\n",
       "      <td>167</td>\n",
       "      <td>2644404</td>\n",
       "      <td>402313</td>\n",
       "      <td>22494</td>\n",
       "      <td>6502</td>\n",
       "      <td>50000000-100000000</td>\n",
       "      <td>0.0</td>\n",
       "    </tr>\n",
       "    <tr>\n",
       "      <th>41</th>\n",
       "      <td>1840</td>\n",
       "      <td>Source Filmmaker</td>\n",
       "      <td>2012-07-10</td>\n",
       "      <td>1</td>\n",
       "      <td>Valve</td>\n",
       "      <td>Valve</td>\n",
       "      <td>windows</td>\n",
       "      <td>0</td>\n",
       "      <td>Steam Workshop</td>\n",
       "      <td>Animation &amp; Modeling;Video Production</td>\n",
       "      <td>Animation &amp; Modeling;Video Production;Free to ...</td>\n",
       "      <td>0</td>\n",
       "      <td>15083</td>\n",
       "      <td>1111</td>\n",
       "      <td>239</td>\n",
       "      <td>77</td>\n",
       "      <td>1000000-2000000</td>\n",
       "      <td>0.0</td>\n",
       "    </tr>\n",
       "    <tr>\n",
       "      <th>132</th>\n",
       "      <td>4560</td>\n",
       "      <td>Company of Heroes - Legacy Edition</td>\n",
       "      <td>2007-07-17</td>\n",
       "      <td>1</td>\n",
       "      <td>Relic Entertainment</td>\n",
       "      <td>SEGA</td>\n",
       "      <td>windows</td>\n",
       "      <td>18</td>\n",
       "      <td>Single-player;Multi-player;Steam Trading Cards...</td>\n",
       "      <td>Violent;Action;Strategy</td>\n",
       "      <td>Strategy;RTS;World War II</td>\n",
       "      <td>0</td>\n",
       "      <td>4772</td>\n",
       "      <td>320</td>\n",
       "      <td>175</td>\n",
       "      <td>186</td>\n",
       "      <td>2000000-5000000</td>\n",
       "      <td>0.0</td>\n",
       "    </tr>\n",
       "  </tbody>\n",
       "</table>\n",
       "</div>"
      ],
      "text/plain": [
       "     appid                                name release_date  english  \\\n",
       "19     440                     Team Fortress 2   2007-10-10        1   \n",
       "22     570                              Dota 2   2013-07-09        1   \n",
       "25     730    Counter-Strike: Global Offensive   2012-08-21        1   \n",
       "41    1840                    Source Filmmaker   2012-07-10        1   \n",
       "132   4560  Company of Heroes - Legacy Edition   2007-07-17        1   \n",
       "\n",
       "                           developer publisher          platforms  \\\n",
       "19                             Valve     Valve  windows;mac;linux   \n",
       "22                             Valve     Valve  windows;mac;linux   \n",
       "25   Valve;Hidden Path Entertainment     Valve  windows;mac;linux   \n",
       "41                             Valve     Valve            windows   \n",
       "132              Relic Entertainment      SEGA            windows   \n",
       "\n",
       "     required_age                                         categories  \\\n",
       "19              0  Multi-player;Cross-Platform Multiplayer;Steam ...   \n",
       "22              0  Multi-player;Co-op;Steam Trading Cards;Steam W...   \n",
       "25              0  Multi-player;Steam Achievements;Full controlle...   \n",
       "41              0                                     Steam Workshop   \n",
       "132            18  Single-player;Multi-player;Steam Trading Cards...   \n",
       "\n",
       "                                    genres  \\\n",
       "19                     Action;Free to Play   \n",
       "22            Action;Free to Play;Strategy   \n",
       "25                     Action;Free to Play   \n",
       "41   Animation & Modeling;Video Production   \n",
       "132                Violent;Action;Strategy   \n",
       "\n",
       "                                         steamspy_tags  achievements  \\\n",
       "19                        Free to Play;Multiplayer;FPS           520   \n",
       "22                          Free to Play;MOBA;Strategy             0   \n",
       "25                             FPS;Multiplayer;Shooter           167   \n",
       "41   Animation & Modeling;Video Production;Free to ...             0   \n",
       "132                          Strategy;RTS;World War II             0   \n",
       "\n",
       "     positive_ratings  negative_ratings  average_playtime  median_playtime  \\\n",
       "19             515879             34036              8495              623   \n",
       "22             863507            142079             23944              801   \n",
       "25            2644404            402313             22494             6502   \n",
       "41              15083              1111               239               77   \n",
       "132              4772               320               175              186   \n",
       "\n",
       "                  owners  price  \n",
       "19     20000000-50000000    0.0  \n",
       "22   100000000-200000000    0.0  \n",
       "25    50000000-100000000    0.0  \n",
       "41       1000000-2000000    0.0  \n",
       "132      2000000-5000000    0.0  "
      ]
     },
     "execution_count": 136,
     "metadata": {},
     "output_type": "execute_result"
    }
   ],
   "source": [
    "data[mask].head()"
   ]
  },
  {
   "cell_type": "code",
   "execution_count": 151,
   "id": "b747136d-ec79-4f53-9004-f62eef2ce3e5",
   "metadata": {},
   "outputs": [
    {
     "data": {
      "text/plain": [
       "[['Action'],\n",
       " ['Action', 'Strategy'],\n",
       " ['Action'],\n",
       " [],\n",
       " ['Action', 'Strategy'],\n",
       " ['Action'],\n",
       " ['Action', 'Adventure', 'RPG'],\n",
       " ['RPG'],\n",
       " ['Action', 'RPG', 'Strategy'],\n",
       " ['RPG']]"
      ]
     },
     "execution_count": 151,
     "metadata": {},
     "output_type": "execute_result"
    }
   ],
   "source": [
    "new_tags = remove_unimportant_tags(data[mask], tags_set)\n",
    "new_tags[:10]"
   ]
  },
  {
   "cell_type": "code",
   "execution_count": 152,
   "id": "90177a6b-0e62-4f88-8e93-d082daba2d1b",
   "metadata": {
    "tags": []
   },
   "outputs": [],
   "source": [
    "for i, tag in zip(range(len(new_tags)), new_tags):\n",
    "    if tag == []:\n",
    "        new_tags[i] = \"\"\n",
    "    elif len(tag) == 1:\n",
    "        new_tags[i] = tag[0]\n",
    "    else:\n",
    "        new_tags[i]=';'.join(tag)"
   ]
  },
  {
   "cell_type": "code",
   "execution_count": 154,
   "id": "67e01a2f-3be8-4adf-88ba-59440be5e61d",
   "metadata": {
    "tags": []
   },
   "outputs": [
    {
     "data": {
      "text/plain": [
       "['Action',\n",
       " 'Action;Strategy',\n",
       " 'Action',\n",
       " '',\n",
       " 'Action;Strategy',\n",
       " 'Action',\n",
       " 'Action;Adventure;RPG',\n",
       " 'RPG',\n",
       " 'Action;RPG;Strategy',\n",
       " 'RPG']"
      ]
     },
     "execution_count": 154,
     "metadata": {},
     "output_type": "execute_result"
    }
   ],
   "source": [
    "new_tags[:10]"
   ]
  },
  {
   "cell_type": "code",
   "execution_count": 159,
   "id": "cbabedd2-4987-4311-b61d-dc1de50fd023",
   "metadata": {},
   "outputs": [],
   "source": [
    "data.loc[mask,\"genres\"] = new_tags"
   ]
  },
  {
   "cell_type": "markdown",
   "id": "7186804d-45b9-46d0-845f-6e380e6667a9",
   "metadata": {},
   "source": [
    "### Drop games with empty tags"
   ]
  },
  {
   "cell_type": "code",
   "execution_count": 201,
   "id": "ffe2f9cc-1bb6-4ff3-bbde-830a6712dd6b",
   "metadata": {},
   "outputs": [],
   "source": [
    "to_delete = data.loc[(data['genres'] == \"\"), 'genres'].index"
   ]
  },
  {
   "cell_type": "code",
   "execution_count": 202,
   "id": "f928c74a-f74e-4e8e-a2c2-d3cc1692c1cb",
   "metadata": {},
   "outputs": [
    {
     "data": {
      "text/plain": [
       "Int64Index([   41,  1438,  1498,  1697,  1904,  1988,  2041,  2226,  2268,\n",
       "             2350,\n",
       "            ...\n",
       "            25622, 25640, 25733, 25735, 25841, 26190, 26348, 26464, 26481,\n",
       "            26793],\n",
       "           dtype='int64', length=139)"
      ]
     },
     "execution_count": 202,
     "metadata": {},
     "output_type": "execute_result"
    }
   ],
   "source": [
    "to_delete"
   ]
  },
  {
   "cell_type": "code",
   "execution_count": 205,
   "id": "68e1b8e9-6e8e-4432-abbb-249ae6cc389a",
   "metadata": {},
   "outputs": [],
   "source": [
    "data.drop(index=to_delete, inplace=True)"
   ]
  },
  {
   "cell_type": "code",
   "execution_count": 214,
   "id": "0cd31f74-ddf7-4a48-aac1-0f75da194321",
   "metadata": {},
   "outputs": [],
   "source": [
    "data.to_csv(\"../Data/cleaned_steam.csv\")"
   ]
  },
  {
   "cell_type": "code",
   "execution_count": null,
   "id": "2cfc5703-7588-4b3f-8c0a-ff6d0287c416",
   "metadata": {},
   "outputs": [],
   "source": []
  },
  {
   "cell_type": "code",
   "execution_count": null,
   "id": "002cc651-cad7-495a-b03c-ec140466c9d8",
   "metadata": {},
   "outputs": [],
   "source": []
  },
  {
   "cell_type": "markdown",
   "id": "9ea69abd-c3a7-4438-9e6e-199ff1604369",
   "metadata": {},
   "source": [
    "### Merge tags with description"
   ]
  },
  {
   "cell_type": "code",
   "execution_count": 215,
   "id": "d2f82a93-94b7-419a-b420-b31d6091b92f",
   "metadata": {},
   "outputs": [],
   "source": [
    "steam = pd.read_csv(\"../Data/cleaned_steam.csv\", usecols=['appid','genres'])"
   ]
  },
  {
   "cell_type": "code",
   "execution_count": 225,
   "id": "e74edd07-026e-42ca-b72e-f2ae2e36fbed",
   "metadata": {},
   "outputs": [
    {
     "data": {
      "text/html": [
       "<div>\n",
       "<style scoped>\n",
       "    .dataframe tbody tr th:only-of-type {\n",
       "        vertical-align: middle;\n",
       "    }\n",
       "\n",
       "    .dataframe tbody tr th {\n",
       "        vertical-align: top;\n",
       "    }\n",
       "\n",
       "    .dataframe thead th {\n",
       "        text-align: right;\n",
       "    }\n",
       "</style>\n",
       "<table border=\"1\" class=\"dataframe\">\n",
       "  <thead>\n",
       "    <tr style=\"text-align: right;\">\n",
       "      <th></th>\n",
       "      <th>appid</th>\n",
       "      <th>genres</th>\n",
       "    </tr>\n",
       "  </thead>\n",
       "  <tbody>\n",
       "    <tr>\n",
       "      <th>0</th>\n",
       "      <td>10</td>\n",
       "      <td>Action</td>\n",
       "    </tr>\n",
       "    <tr>\n",
       "      <th>1</th>\n",
       "      <td>20</td>\n",
       "      <td>Action</td>\n",
       "    </tr>\n",
       "    <tr>\n",
       "      <th>2</th>\n",
       "      <td>30</td>\n",
       "      <td>Action</td>\n",
       "    </tr>\n",
       "    <tr>\n",
       "      <th>3</th>\n",
       "      <td>40</td>\n",
       "      <td>Action</td>\n",
       "    </tr>\n",
       "    <tr>\n",
       "      <th>4</th>\n",
       "      <td>50</td>\n",
       "      <td>Action</td>\n",
       "    </tr>\n",
       "  </tbody>\n",
       "</table>\n",
       "</div>"
      ],
      "text/plain": [
       "   appid  genres\n",
       "0     10  Action\n",
       "1     20  Action\n",
       "2     30  Action\n",
       "3     40  Action\n",
       "4     50  Action"
      ]
     },
     "execution_count": 225,
     "metadata": {},
     "output_type": "execute_result"
    }
   ],
   "source": [
    "steam.head()"
   ]
  },
  {
   "cell_type": "code",
   "execution_count": 216,
   "id": "dd8ecb16-eecd-4884-9c70-935eef7b3655",
   "metadata": {},
   "outputs": [],
   "source": [
    "desc_gen = description.merge(steam,left_on='steam_appid',right_on='appid').drop(columns=[\"appid\", \"about_the_game\", \"short_description\"])"
   ]
  },
  {
   "cell_type": "code",
   "execution_count": 217,
   "id": "693d773d-0f94-4f36-a0d8-0e03e2e815dc",
   "metadata": {},
   "outputs": [],
   "source": [
    "desc_gen.to_csv(\"../Data/cleaned_desc.csv\")"
   ]
  },
  {
   "cell_type": "code",
   "execution_count": 218,
   "id": "dc5830d2-b5d6-42be-9414-2c019b35f758",
   "metadata": {},
   "outputs": [
    {
     "data": {
      "text/html": [
       "<div>\n",
       "<style scoped>\n",
       "    .dataframe tbody tr th:only-of-type {\n",
       "        vertical-align: middle;\n",
       "    }\n",
       "\n",
       "    .dataframe tbody tr th {\n",
       "        vertical-align: top;\n",
       "    }\n",
       "\n",
       "    .dataframe thead th {\n",
       "        text-align: right;\n",
       "    }\n",
       "</style>\n",
       "<table border=\"1\" class=\"dataframe\">\n",
       "  <thead>\n",
       "    <tr style=\"text-align: right;\">\n",
       "      <th></th>\n",
       "      <th>steam_appid</th>\n",
       "      <th>detailed_description</th>\n",
       "      <th>genres</th>\n",
       "    </tr>\n",
       "  </thead>\n",
       "  <tbody>\n",
       "    <tr>\n",
       "      <th>0</th>\n",
       "      <td>10</td>\n",
       "      <td>Play the world's number 1 online action game. ...</td>\n",
       "      <td>Action</td>\n",
       "    </tr>\n",
       "    <tr>\n",
       "      <th>1</th>\n",
       "      <td>20</td>\n",
       "      <td>One of the most popular online action games of...</td>\n",
       "      <td>Action</td>\n",
       "    </tr>\n",
       "    <tr>\n",
       "      <th>2</th>\n",
       "      <td>30</td>\n",
       "      <td>Enlist in an intense brand of Axis vs. Allied ...</td>\n",
       "      <td>Action</td>\n",
       "    </tr>\n",
       "    <tr>\n",
       "      <th>3</th>\n",
       "      <td>40</td>\n",
       "      <td>Enjoy fast-paced multiplayer gaming with Death...</td>\n",
       "      <td>Action</td>\n",
       "    </tr>\n",
       "    <tr>\n",
       "      <th>4</th>\n",
       "      <td>50</td>\n",
       "      <td>Return to the Black Mesa Research Facility as ...</td>\n",
       "      <td>Action</td>\n",
       "    </tr>\n",
       "    <tr>\n",
       "      <th>...</th>\n",
       "      <td>...</td>\n",
       "      <td>...</td>\n",
       "      <td>...</td>\n",
       "    </tr>\n",
       "    <tr>\n",
       "      <th>26817</th>\n",
       "      <td>1065230</td>\n",
       "      <td>&lt;img src=\"https://steamcdn-a.akamaihd.net/stea...</td>\n",
       "      <td>Adventure;Casual;Indie</td>\n",
       "    </tr>\n",
       "    <tr>\n",
       "      <th>26818</th>\n",
       "      <td>1065570</td>\n",
       "      <td>Have you ever been so lonely that no one but y...</td>\n",
       "      <td>Action;Adventure;Indie</td>\n",
       "    </tr>\n",
       "    <tr>\n",
       "      <th>26819</th>\n",
       "      <td>1065650</td>\n",
       "      <td>&lt;strong&gt;Super Star Blast &lt;/strong&gt;is a space b...</td>\n",
       "      <td>Action;Casual;Indie</td>\n",
       "    </tr>\n",
       "    <tr>\n",
       "      <th>26820</th>\n",
       "      <td>1066700</td>\n",
       "      <td>Pursue a snow-white deer through an enchanted ...</td>\n",
       "      <td>Adventure;Casual;Indie</td>\n",
       "    </tr>\n",
       "    <tr>\n",
       "      <th>26821</th>\n",
       "      <td>1069460</td>\n",
       "      <td>A portal has opened and dark magic is pouring ...</td>\n",
       "      <td>Adventure;Casual;Indie</td>\n",
       "    </tr>\n",
       "  </tbody>\n",
       "</table>\n",
       "<p>26822 rows × 3 columns</p>\n",
       "</div>"
      ],
      "text/plain": [
       "       steam_appid                               detailed_description  \\\n",
       "0               10  Play the world's number 1 online action game. ...   \n",
       "1               20  One of the most popular online action games of...   \n",
       "2               30  Enlist in an intense brand of Axis vs. Allied ...   \n",
       "3               40  Enjoy fast-paced multiplayer gaming with Death...   \n",
       "4               50  Return to the Black Mesa Research Facility as ...   \n",
       "...            ...                                                ...   \n",
       "26817      1065230  <img src=\"https://steamcdn-a.akamaihd.net/stea...   \n",
       "26818      1065570  Have you ever been so lonely that no one but y...   \n",
       "26819      1065650  <strong>Super Star Blast </strong>is a space b...   \n",
       "26820      1066700  Pursue a snow-white deer through an enchanted ...   \n",
       "26821      1069460  A portal has opened and dark magic is pouring ...   \n",
       "\n",
       "                       genres  \n",
       "0                      Action  \n",
       "1                      Action  \n",
       "2                      Action  \n",
       "3                      Action  \n",
       "4                      Action  \n",
       "...                       ...  \n",
       "26817  Adventure;Casual;Indie  \n",
       "26818  Action;Adventure;Indie  \n",
       "26819     Action;Casual;Indie  \n",
       "26820  Adventure;Casual;Indie  \n",
       "26821  Adventure;Casual;Indie  \n",
       "\n",
       "[26822 rows x 3 columns]"
      ]
     },
     "execution_count": 218,
     "metadata": {},
     "output_type": "execute_result"
    }
   ],
   "source": [
    "desc_gen"
   ]
  },
  {
   "cell_type": "markdown",
   "id": "212a902f-199d-4cb7-9324-bf58bd794403",
   "metadata": {},
   "source": [
    "## Clean description \n",
    "1. remove html tags\n",
    "2. remove digits\n",
    "3. remove punctuation\n",
    "4. lower case "
   ]
  },
  {
   "cell_type": "code",
   "execution_count": 219,
   "id": "f290b45e-c2f2-4f82-8635-ea9bcd4a4bd2",
   "metadata": {},
   "outputs": [],
   "source": [
    "# Create a custom function to remove the html tags from the descriptions\n",
    "def remove_html_tags(text):\n",
    "    clean = re.compile('<.*?>')\n",
    "    return re.sub(clean, '', text)\n",
    "\n",
    "def remove_punctuation(text):\n",
    "    return re.sub('[%s]' % re.escape(string.punctuation), '', text)\n",
    "\n",
    "def lower_case(text):\n",
    "    return text.lower()\n",
    "\n",
    "def remove_num(text):\n",
    "    return re.sub('\\w*\\d\\w*','',text)  "
   ]
  },
  {
   "cell_type": "code",
   "execution_count": 220,
   "id": "d2dd8518-30a0-4d96-8ff1-2f0eaae78504",
   "metadata": {},
   "outputs": [
    {
     "name": "stderr",
     "output_type": "stream",
     "text": [
      "[nltk_data] Downloading package stopwords to\n",
      "[nltk_data]     C:\\Users\\elaaf\\AppData\\Roaming\\nltk_data...\n",
      "[nltk_data]   Package stopwords is already up-to-date!\n"
     ]
    }
   ],
   "source": [
    "stemmer = nltk.stem.PorterStemmer()\n",
    "nltk.download('stopwords')\n",
    "stopwords = stopwords.words('english')\n"
   ]
  },
  {
   "cell_type": "code",
   "execution_count": 221,
   "id": "641a40e9-8cfb-41ca-acb8-3642c970336a",
   "metadata": {},
   "outputs": [],
   "source": [
    "\n",
    "# Custom tokenizer to remove html tags, punctuation, set to lowercase, and remove stopwords\n",
    "def my_tokenizer(sentence):\n",
    "    # Remove HTML tags with custom function\n",
    "    sentence = remove_html_tags(sentence)\n",
    "    \n",
    "    # remove punctuation using string attribute\n",
    "    for punct in string.punctuation:\n",
    "        # set to lower case with built in functions\n",
    "        sentence = sentence.replace(punct,'').lower()\n",
    "\n",
    "    # split into words\n",
    "    words = sentence.split(' ')\n",
    "    stemmed_list = []\n",
    "    \n",
    "    # remove stopwords and any tokens that are just empty strings\n",
    "    for word in words:\n",
    "        if (not word in stopwords) and (word!=''):\n",
    "            # Stem words\n",
    "            stemmed = stemmer.stem(word)\n",
    "            stemmed_list.append(stemmed)\n",
    "\n",
    "    return stemmed_list"
   ]
  },
  {
   "cell_type": "code",
   "execution_count": 222,
   "id": "30880dd5-bd0b-4f29-9a10-b822bb2cf45d",
   "metadata": {},
   "outputs": [],
   "source": [
    "# Initial thresholds\n",
    "minimum_descr_count = 5 # do not count words unless they occur in at least this many descriptions\n",
    "maximum_descr_perc = 0.90 # drop words that occur in 90% or more of the descriptions\n",
    "\n",
    "tfidf = TfidfVectorizer(stop_words = stopwords, min_df=minimum_descr_count, \n",
    "                             max_df=maximum_descr_perc, tokenizer=my_tokenizer)                          "
   ]
  },
  {
   "cell_type": "code",
   "execution_count": 224,
   "id": "a4345fe8-edfa-418b-83da-a7a3b36e927b",
   "metadata": {},
   "outputs": [],
   "source": [
    "tfidf_matrix = tfidf.fit_transform(desc_gen.detailed_description)"
   ]
  },
  {
   "cell_type": "code",
   "execution_count": null,
   "id": "e56d6d62-49aa-44b1-a574-2e7841effc0f",
   "metadata": {},
   "outputs": [],
   "source": []
  },
  {
   "cell_type": "code",
   "execution_count": null,
   "id": "70e0d828-9f68-4474-8cd9-b3f3dfefc53e",
   "metadata": {},
   "outputs": [],
   "source": []
  },
  {
   "cell_type": "code",
   "execution_count": 241,
   "id": "0875321a-fcce-49cf-babe-61b873d0a665",
   "metadata": {},
   "outputs": [
    {
     "data": {
      "text/html": [
       "<div>\n",
       "<style scoped>\n",
       "    .dataframe tbody tr th:only-of-type {\n",
       "        vertical-align: middle;\n",
       "    }\n",
       "\n",
       "    .dataframe tbody tr th {\n",
       "        vertical-align: top;\n",
       "    }\n",
       "\n",
       "    .dataframe thead th {\n",
       "        text-align: right;\n",
       "    }\n",
       "</style>\n",
       "<table border=\"1\" class=\"dataframe\">\n",
       "  <thead>\n",
       "    <tr style=\"text-align: right;\">\n",
       "      <th></th>\n",
       "      <th>steam_appid</th>\n",
       "      <th>detailed_description</th>\n",
       "      <th>genres</th>\n",
       "    </tr>\n",
       "  </thead>\n",
       "  <tbody>\n",
       "    <tr>\n",
       "      <th>0</th>\n",
       "      <td>10</td>\n",
       "      <td>Play the world's number 1 online action game. ...</td>\n",
       "      <td>Action</td>\n",
       "    </tr>\n",
       "    <tr>\n",
       "      <th>1</th>\n",
       "      <td>20</td>\n",
       "      <td>One of the most popular online action games of...</td>\n",
       "      <td>Action</td>\n",
       "    </tr>\n",
       "    <tr>\n",
       "      <th>2</th>\n",
       "      <td>30</td>\n",
       "      <td>Enlist in an intense brand of Axis vs. Allied ...</td>\n",
       "      <td>Action</td>\n",
       "    </tr>\n",
       "    <tr>\n",
       "      <th>3</th>\n",
       "      <td>40</td>\n",
       "      <td>Enjoy fast-paced multiplayer gaming with Death...</td>\n",
       "      <td>Action</td>\n",
       "    </tr>\n",
       "    <tr>\n",
       "      <th>4</th>\n",
       "      <td>50</td>\n",
       "      <td>Return to the Black Mesa Research Facility as ...</td>\n",
       "      <td>Action</td>\n",
       "    </tr>\n",
       "    <tr>\n",
       "      <th>...</th>\n",
       "      <td>...</td>\n",
       "      <td>...</td>\n",
       "      <td>...</td>\n",
       "    </tr>\n",
       "    <tr>\n",
       "      <th>26656</th>\n",
       "      <td>1046490</td>\n",
       "      <td>This is a simple multiplayer shooter in which ...</td>\n",
       "      <td>Action</td>\n",
       "    </tr>\n",
       "    <tr>\n",
       "      <th>26670</th>\n",
       "      <td>1047780</td>\n",
       "      <td>The planet Tserberus is inhabited by reasonabl...</td>\n",
       "      <td>Action</td>\n",
       "    </tr>\n",
       "    <tr>\n",
       "      <th>26738</th>\n",
       "      <td>1053060</td>\n",
       "      <td>&lt;img src=\"https://steamcdn-a.akamaihd.net/stea...</td>\n",
       "      <td>Action</td>\n",
       "    </tr>\n",
       "    <tr>\n",
       "      <th>26741</th>\n",
       "      <td>1053190</td>\n",
       "      <td>Lover Bands is a 2-player cooperative platform...</td>\n",
       "      <td>Action</td>\n",
       "    </tr>\n",
       "    <tr>\n",
       "      <th>26750</th>\n",
       "      <td>1053960</td>\n",
       "      <td>Bot Battles is a multiplayer online robotic co...</td>\n",
       "      <td>Action</td>\n",
       "    </tr>\n",
       "  </tbody>\n",
       "</table>\n",
       "<p>1035 rows × 3 columns</p>\n",
       "</div>"
      ],
      "text/plain": [
       "       steam_appid                               detailed_description  genres\n",
       "0               10  Play the world's number 1 online action game. ...  Action\n",
       "1               20  One of the most popular online action games of...  Action\n",
       "2               30  Enlist in an intense brand of Axis vs. Allied ...  Action\n",
       "3               40  Enjoy fast-paced multiplayer gaming with Death...  Action\n",
       "4               50  Return to the Black Mesa Research Facility as ...  Action\n",
       "...            ...                                                ...     ...\n",
       "26656      1046490  This is a simple multiplayer shooter in which ...  Action\n",
       "26670      1047780  The planet Tserberus is inhabited by reasonabl...  Action\n",
       "26738      1053060  <img src=\"https://steamcdn-a.akamaihd.net/stea...  Action\n",
       "26741      1053190  Lover Bands is a 2-player cooperative platform...  Action\n",
       "26750      1053960  Bot Battles is a multiplayer online robotic co...  Action\n",
       "\n",
       "[1035 rows x 3 columns]"
      ]
     },
     "execution_count": 241,
     "metadata": {},
     "output_type": "execute_result"
    }
   ],
   "source": [
    "desc_gen[(desc_gen.genres == \"Action\")]"
   ]
  },
  {
   "cell_type": "code",
   "execution_count": 256,
   "id": "0ed652df-99ca-493e-b328-a4f5df28ba08",
   "metadata": {},
   "outputs": [
    {
     "data": {
      "text/plain": [
       "'Action'"
      ]
     },
     "execution_count": 256,
     "metadata": {},
     "output_type": "execute_result"
    }
   ],
   "source": [
    "desc_gen.loc[desc_gen[desc_gen.genres == \"Action\"].index, \"genres\"][0]"
   ]
  },
  {
   "cell_type": "code",
   "execution_count": null,
   "id": "87bf1310-45dd-4217-a7ed-b6dd038aa6f2",
   "metadata": {},
   "outputs": [
    {
     "data": {
      "text/plain": [
       "60"
      ]
     },
     "execution_count": 248,
     "metadata": {},
     "output_type": "execute_result"
    }
   ],
   "source": [
    "desc_gen.iloc[5].steam_appid"
   ]
  },
  {
   "cell_type": "code",
   "execution_count": 280,
   "id": "5ed13dbb-aeaf-4721-b920-6f8fbe278d61",
   "metadata": {},
   "outputs": [
    {
     "data": {
      "text/plain": [
       "Index(['appid', 'name', 'release_date', 'english', 'developer', 'publisher',\n",
       "       'platforms', 'required_age', 'categories', 'genres', 'steamspy_tags',\n",
       "       'achievements', 'positive_ratings', 'negative_ratings',\n",
       "       'average_playtime', 'median_playtime', 'owners', 'price'],\n",
       "      dtype='object')"
      ]
     },
     "execution_count": 280,
     "metadata": {},
     "output_type": "execute_result"
    }
   ],
   "source": [
    "steam       = pd.read_csv(r\"C:\\Users\\elaaf\\Desktop\\SDS\\project_4_data\\steam.csv\")\n",
    "steam.columns"
   ]
  },
  {
   "cell_type": "code",
   "execution_count": 284,
   "id": "d6a6fd8f-811c-45ee-9f74-3bc43ba08d00",
   "metadata": {},
   "outputs": [],
   "source": [
    "steam.groupby([\"name\"])[\"appid\"].count().reset_index().to_csv(\"data.csv\")"
   ]
  },
  {
   "cell_type": "code",
   "execution_count": null,
   "id": "22b9e54d-523b-478f-8d66-cb31e2e59a8b",
   "metadata": {},
   "outputs": [],
   "source": []
  },
  {
   "cell_type": "code",
   "execution_count": null,
   "id": "322ca64a-3958-4e0d-8481-8d190785c6dc",
   "metadata": {},
   "outputs": [],
   "source": []
  }
 ],
 "metadata": {
  "kernelspec": {
   "display_name": "Python 3 (ipykernel)",
   "language": "python",
   "name": "python3"
  },
  "language_info": {
   "codemirror_mode": {
    "name": "ipython",
    "version": 3
   },
   "file_extension": ".py",
   "mimetype": "text/x-python",
   "name": "python",
   "nbconvert_exporter": "python",
   "pygments_lexer": "ipython3",
   "version": "3.8.11"
  }
 },
 "nbformat": 4,
 "nbformat_minor": 5
}
