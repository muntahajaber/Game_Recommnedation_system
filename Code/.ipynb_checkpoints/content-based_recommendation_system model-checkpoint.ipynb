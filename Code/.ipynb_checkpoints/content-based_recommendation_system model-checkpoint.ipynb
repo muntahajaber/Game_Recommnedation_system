{
 "cells": [
  {
   "cell_type": "markdown",
   "id": "b89f982e",
   "metadata": {},
   "source": [
    "# Imports"
   ]
  },
  {
   "cell_type": "code",
   "execution_count": 1,
   "id": "f024a813",
   "metadata": {},
   "outputs": [],
   "source": [
    "# Import nltk if not\n",
    "# !pip install nltk"
   ]
  },
  {
   "cell_type": "code",
   "execution_count": 2,
   "id": "197bcbbe",
   "metadata": {},
   "outputs": [],
   "source": [
    "import numpy as np\n",
    "import pandas as pd\n",
    "import matplotlib.pyplot as plt\n",
    "import re\n",
    "import string\n",
    "from sklearn.feature_extraction.text import TfidfVectorizer,CountVectorizer\n",
    "from sklearn.metrics.pairwise import sigmoid_kernel, paired_cosine_distances, cosine_similarity, linear_kernel\n",
    "from nltk.corpus import stopwords\n",
    "import nltk\n",
    "import pickle"
   ]
  },
  {
   "cell_type": "markdown",
   "id": "6ebb8a01",
   "metadata": {},
   "source": [
    "# read datasets"
   ]
  },
  {
   "cell_type": "code",
   "execution_count": 4,
   "id": "5d193ce2",
   "metadata": {
    "scrolled": true
   },
   "outputs": [],
   "source": [
    "game_steam_df = pd.read_csv(r\"C:\\Users\\elaaf\\Desktop\\SDS\\project_4_data\\steam.csv\")\n",
    "steam_description_df = pd.read_csv(r\"C:\\Users\\elaaf\\Desktop\\SDS\\project_4_data\\steam_description_data.csv\")"
   ]
  },
  {
   "cell_type": "markdown",
   "id": "e8ca2145",
   "metadata": {},
   "source": [
    "# Preprocessing "
   ]
  },
  {
   "cell_type": "markdown",
   "id": "211fbf58",
   "metadata": {},
   "source": [
    "### 1)  Data cleaning"
   ]
  },
  {
   "cell_type": "code",
   "execution_count": 7,
   "id": "8b009f0f",
   "metadata": {
    "collapsed": true,
    "tags": []
   },
   "outputs": [
    {
     "data": {
      "text/html": [
       "<div>\n",
       "<style scoped>\n",
       "    .dataframe tbody tr th:only-of-type {\n",
       "        vertical-align: middle;\n",
       "    }\n",
       "\n",
       "    .dataframe tbody tr th {\n",
       "        vertical-align: top;\n",
       "    }\n",
       "\n",
       "    .dataframe thead th {\n",
       "        text-align: right;\n",
       "    }\n",
       "</style>\n",
       "<table border=\"1\" class=\"dataframe\">\n",
       "  <thead>\n",
       "    <tr style=\"text-align: right;\">\n",
       "      <th></th>\n",
       "      <th>appid</th>\n",
       "      <th>name</th>\n",
       "      <th>release_date</th>\n",
       "      <th>english</th>\n",
       "      <th>developer</th>\n",
       "      <th>publisher</th>\n",
       "      <th>platforms</th>\n",
       "      <th>required_age</th>\n",
       "      <th>categories</th>\n",
       "      <th>genres</th>\n",
       "      <th>steamspy_tags</th>\n",
       "      <th>achievements</th>\n",
       "      <th>average_playtime</th>\n",
       "      <th>median_playtime</th>\n",
       "      <th>owners</th>\n",
       "      <th>price</th>\n",
       "      <th>total_ratings</th>\n",
       "      <th>percent_positive_ratings</th>\n",
       "    </tr>\n",
       "  </thead>\n",
       "  <tbody>\n",
       "    <tr>\n",
       "      <th>0</th>\n",
       "      <td>10</td>\n",
       "      <td>Counter-Strike</td>\n",
       "      <td>2000-11-01</td>\n",
       "      <td>1</td>\n",
       "      <td>Valve</td>\n",
       "      <td>Valve</td>\n",
       "      <td>windows;mac;linux</td>\n",
       "      <td>0</td>\n",
       "      <td>Multi-player;Online Multi-Player;Local Multi-P...</td>\n",
       "      <td>Action</td>\n",
       "      <td>Action;FPS;Multiplayer</td>\n",
       "      <td>0</td>\n",
       "      <td>17612</td>\n",
       "      <td>317</td>\n",
       "      <td>10000000-20000000</td>\n",
       "      <td>7.19</td>\n",
       "      <td>127873</td>\n",
       "      <td>0.973888</td>\n",
       "    </tr>\n",
       "    <tr>\n",
       "      <th>1</th>\n",
       "      <td>20</td>\n",
       "      <td>Team Fortress Classic</td>\n",
       "      <td>1999-04-01</td>\n",
       "      <td>1</td>\n",
       "      <td>Valve</td>\n",
       "      <td>Valve</td>\n",
       "      <td>windows;mac;linux</td>\n",
       "      <td>0</td>\n",
       "      <td>Multi-player;Online Multi-Player;Local Multi-P...</td>\n",
       "      <td>Action</td>\n",
       "      <td>Action;FPS;Multiplayer</td>\n",
       "      <td>0</td>\n",
       "      <td>277</td>\n",
       "      <td>62</td>\n",
       "      <td>5000000-10000000</td>\n",
       "      <td>3.99</td>\n",
       "      <td>3951</td>\n",
       "      <td>0.839787</td>\n",
       "    </tr>\n",
       "    <tr>\n",
       "      <th>2</th>\n",
       "      <td>30</td>\n",
       "      <td>Day of Defeat</td>\n",
       "      <td>2003-05-01</td>\n",
       "      <td>1</td>\n",
       "      <td>Valve</td>\n",
       "      <td>Valve</td>\n",
       "      <td>windows;mac;linux</td>\n",
       "      <td>0</td>\n",
       "      <td>Multi-player;Valve Anti-Cheat enabled</td>\n",
       "      <td>Action</td>\n",
       "      <td>FPS;World War II;Multiplayer</td>\n",
       "      <td>0</td>\n",
       "      <td>187</td>\n",
       "      <td>34</td>\n",
       "      <td>5000000-10000000</td>\n",
       "      <td>3.99</td>\n",
       "      <td>3814</td>\n",
       "      <td>0.895648</td>\n",
       "    </tr>\n",
       "  </tbody>\n",
       "</table>\n",
       "</div>"
      ],
      "text/plain": [
       "   appid                   name release_date  english developer publisher  \\\n",
       "0     10         Counter-Strike   2000-11-01        1     Valve     Valve   \n",
       "1     20  Team Fortress Classic   1999-04-01        1     Valve     Valve   \n",
       "2     30          Day of Defeat   2003-05-01        1     Valve     Valve   \n",
       "\n",
       "           platforms  required_age  \\\n",
       "0  windows;mac;linux             0   \n",
       "1  windows;mac;linux             0   \n",
       "2  windows;mac;linux             0   \n",
       "\n",
       "                                          categories  genres  \\\n",
       "0  Multi-player;Online Multi-Player;Local Multi-P...  Action   \n",
       "1  Multi-player;Online Multi-Player;Local Multi-P...  Action   \n",
       "2              Multi-player;Valve Anti-Cheat enabled  Action   \n",
       "\n",
       "                  steamspy_tags  achievements  average_playtime  \\\n",
       "0        Action;FPS;Multiplayer             0             17612   \n",
       "1        Action;FPS;Multiplayer             0               277   \n",
       "2  FPS;World War II;Multiplayer             0               187   \n",
       "\n",
       "   median_playtime             owners  price  total_ratings  \\\n",
       "0              317  10000000-20000000   7.19         127873   \n",
       "1               62   5000000-10000000   3.99           3951   \n",
       "2               34   5000000-10000000   3.99           3814   \n",
       "\n",
       "   percent_positive_ratings  \n",
       "0                  0.973888  \n",
       "1                  0.839787  \n",
       "2                  0.895648  "
      ]
     },
     "execution_count": 7,
     "metadata": {},
     "output_type": "execute_result"
    }
   ],
   "source": [
    "# Calculate percentage of positive reviews and total reviews\n",
    "game_steam_df['total_ratings'] = game_steam_df['positive_ratings'] + game_steam_df['negative_ratings']\n",
    "game_steam_df['percent_positive_ratings'] = game_steam_df['positive_ratings'] / game_steam_df['total_ratings']\n",
    "game_steam_df.drop(['positive_ratings','negative_ratings'],axis=1,inplace=True)\n",
    "game_steam_df.head(3)"
   ]
  },
  {
   "cell_type": "code",
   "execution_count": 8,
   "id": "1a001f9b",
   "metadata": {},
   "outputs": [],
   "source": [
    "# change col name so we can merge on the appid\n",
    "new_data = steam_description_df.rename(index=str, columns={\"steam_appid\":\"appid\"})\n",
    "#merge two datasets\n",
    "merge_dataset = game_steam_df.merge(new_data, on=\"appid\")"
   ]
  },
  {
   "cell_type": "code",
   "execution_count": 9,
   "id": "fc69e4b9",
   "metadata": {
    "collapsed": true,
    "tags": []
   },
   "outputs": [
    {
     "data": {
      "text/html": [
       "<div>\n",
       "<style scoped>\n",
       "    .dataframe tbody tr th:only-of-type {\n",
       "        vertical-align: middle;\n",
       "    }\n",
       "\n",
       "    .dataframe tbody tr th {\n",
       "        vertical-align: top;\n",
       "    }\n",
       "\n",
       "    .dataframe thead th {\n",
       "        text-align: right;\n",
       "    }\n",
       "</style>\n",
       "<table border=\"1\" class=\"dataframe\">\n",
       "  <thead>\n",
       "    <tr style=\"text-align: right;\">\n",
       "      <th></th>\n",
       "      <th>appid</th>\n",
       "      <th>name</th>\n",
       "      <th>categories</th>\n",
       "      <th>genres</th>\n",
       "      <th>steamspy_tags</th>\n",
       "      <th>average_playtime</th>\n",
       "      <th>median_playtime</th>\n",
       "      <th>price</th>\n",
       "      <th>total_ratings</th>\n",
       "      <th>percent_positive_ratings</th>\n",
       "      <th>detailed_description</th>\n",
       "    </tr>\n",
       "  </thead>\n",
       "  <tbody>\n",
       "    <tr>\n",
       "      <th>0</th>\n",
       "      <td>10</td>\n",
       "      <td>Counter-Strike</td>\n",
       "      <td>Multi-player;Online Multi-Player;Local Multi-P...</td>\n",
       "      <td>Action</td>\n",
       "      <td>Action;FPS;Multiplayer</td>\n",
       "      <td>17612</td>\n",
       "      <td>317</td>\n",
       "      <td>7.19</td>\n",
       "      <td>127873</td>\n",
       "      <td>0.973888</td>\n",
       "      <td>Play the world's number 1 online action game. ...</td>\n",
       "    </tr>\n",
       "    <tr>\n",
       "      <th>1</th>\n",
       "      <td>20</td>\n",
       "      <td>Team Fortress Classic</td>\n",
       "      <td>Multi-player;Online Multi-Player;Local Multi-P...</td>\n",
       "      <td>Action</td>\n",
       "      <td>Action;FPS;Multiplayer</td>\n",
       "      <td>277</td>\n",
       "      <td>62</td>\n",
       "      <td>3.99</td>\n",
       "      <td>3951</td>\n",
       "      <td>0.839787</td>\n",
       "      <td>One of the most popular online action games of...</td>\n",
       "    </tr>\n",
       "    <tr>\n",
       "      <th>2</th>\n",
       "      <td>30</td>\n",
       "      <td>Day of Defeat</td>\n",
       "      <td>Multi-player;Valve Anti-Cheat enabled</td>\n",
       "      <td>Action</td>\n",
       "      <td>FPS;World War II;Multiplayer</td>\n",
       "      <td>187</td>\n",
       "      <td>34</td>\n",
       "      <td>3.99</td>\n",
       "      <td>3814</td>\n",
       "      <td>0.895648</td>\n",
       "      <td>Enlist in an intense brand of Axis vs. Allied ...</td>\n",
       "    </tr>\n",
       "    <tr>\n",
       "      <th>3</th>\n",
       "      <td>40</td>\n",
       "      <td>Deathmatch Classic</td>\n",
       "      <td>Multi-player;Online Multi-Player;Local Multi-P...</td>\n",
       "      <td>Action</td>\n",
       "      <td>Action;FPS;Multiplayer</td>\n",
       "      <td>258</td>\n",
       "      <td>184</td>\n",
       "      <td>3.99</td>\n",
       "      <td>1540</td>\n",
       "      <td>0.826623</td>\n",
       "      <td>Enjoy fast-paced multiplayer gaming with Death...</td>\n",
       "    </tr>\n",
       "    <tr>\n",
       "      <th>4</th>\n",
       "      <td>50</td>\n",
       "      <td>Half-Life: Opposing Force</td>\n",
       "      <td>Single-player;Multi-player;Valve Anti-Cheat en...</td>\n",
       "      <td>Action</td>\n",
       "      <td>FPS;Action;Sci-fi</td>\n",
       "      <td>624</td>\n",
       "      <td>415</td>\n",
       "      <td>3.99</td>\n",
       "      <td>5538</td>\n",
       "      <td>0.947996</td>\n",
       "      <td>Return to the Black Mesa Research Facility as ...</td>\n",
       "    </tr>\n",
       "    <tr>\n",
       "      <th>...</th>\n",
       "      <td>...</td>\n",
       "      <td>...</td>\n",
       "      <td>...</td>\n",
       "      <td>...</td>\n",
       "      <td>...</td>\n",
       "      <td>...</td>\n",
       "      <td>...</td>\n",
       "      <td>...</td>\n",
       "      <td>...</td>\n",
       "      <td>...</td>\n",
       "      <td>...</td>\n",
       "    </tr>\n",
       "    <tr>\n",
       "      <th>27070</th>\n",
       "      <td>1065230</td>\n",
       "      <td>Room of Pandora</td>\n",
       "      <td>Single-player;Steam Achievements</td>\n",
       "      <td>Adventure;Casual;Indie</td>\n",
       "      <td>Adventure;Indie;Casual</td>\n",
       "      <td>0</td>\n",
       "      <td>0</td>\n",
       "      <td>2.09</td>\n",
       "      <td>3</td>\n",
       "      <td>1.000000</td>\n",
       "      <td>&lt;img src=\"https://steamcdn-a.akamaihd.net/stea...</td>\n",
       "    </tr>\n",
       "    <tr>\n",
       "      <th>27071</th>\n",
       "      <td>1065570</td>\n",
       "      <td>Cyber Gun</td>\n",
       "      <td>Single-player</td>\n",
       "      <td>Action;Adventure;Indie</td>\n",
       "      <td>Action;Indie;Adventure</td>\n",
       "      <td>0</td>\n",
       "      <td>0</td>\n",
       "      <td>1.69</td>\n",
       "      <td>9</td>\n",
       "      <td>0.888889</td>\n",
       "      <td>Have you ever been so lonely that no one but y...</td>\n",
       "    </tr>\n",
       "    <tr>\n",
       "      <th>27072</th>\n",
       "      <td>1065650</td>\n",
       "      <td>Super Star Blast</td>\n",
       "      <td>Single-player;Multi-player;Co-op;Shared/Split ...</td>\n",
       "      <td>Action;Casual;Indie</td>\n",
       "      <td>Action;Indie;Casual</td>\n",
       "      <td>0</td>\n",
       "      <td>0</td>\n",
       "      <td>3.99</td>\n",
       "      <td>1</td>\n",
       "      <td>0.000000</td>\n",
       "      <td>&lt;strong&gt;Super Star Blast &lt;/strong&gt;is a space b...</td>\n",
       "    </tr>\n",
       "    <tr>\n",
       "      <th>27073</th>\n",
       "      <td>1066700</td>\n",
       "      <td>New Yankee 7: Deer Hunters</td>\n",
       "      <td>Single-player;Steam Cloud</td>\n",
       "      <td>Adventure;Casual;Indie</td>\n",
       "      <td>Indie;Casual;Adventure</td>\n",
       "      <td>0</td>\n",
       "      <td>0</td>\n",
       "      <td>5.19</td>\n",
       "      <td>2</td>\n",
       "      <td>1.000000</td>\n",
       "      <td>Pursue a snow-white deer through an enchanted ...</td>\n",
       "    </tr>\n",
       "    <tr>\n",
       "      <th>27074</th>\n",
       "      <td>1069460</td>\n",
       "      <td>Rune Lord</td>\n",
       "      <td>Single-player;Steam Cloud</td>\n",
       "      <td>Adventure;Casual;Indie</td>\n",
       "      <td>Indie;Casual;Adventure</td>\n",
       "      <td>0</td>\n",
       "      <td>0</td>\n",
       "      <td>5.19</td>\n",
       "      <td>4</td>\n",
       "      <td>1.000000</td>\n",
       "      <td>A portal has opened and dark magic is pouring ...</td>\n",
       "    </tr>\n",
       "  </tbody>\n",
       "</table>\n",
       "<p>27075 rows × 11 columns</p>\n",
       "</div>"
      ],
      "text/plain": [
       "         appid                        name  \\\n",
       "0           10              Counter-Strike   \n",
       "1           20       Team Fortress Classic   \n",
       "2           30               Day of Defeat   \n",
       "3           40          Deathmatch Classic   \n",
       "4           50   Half-Life: Opposing Force   \n",
       "...        ...                         ...   \n",
       "27070  1065230             Room of Pandora   \n",
       "27071  1065570                   Cyber Gun   \n",
       "27072  1065650            Super Star Blast   \n",
       "27073  1066700  New Yankee 7: Deer Hunters   \n",
       "27074  1069460                   Rune Lord   \n",
       "\n",
       "                                              categories  \\\n",
       "0      Multi-player;Online Multi-Player;Local Multi-P...   \n",
       "1      Multi-player;Online Multi-Player;Local Multi-P...   \n",
       "2                  Multi-player;Valve Anti-Cheat enabled   \n",
       "3      Multi-player;Online Multi-Player;Local Multi-P...   \n",
       "4      Single-player;Multi-player;Valve Anti-Cheat en...   \n",
       "...                                                  ...   \n",
       "27070                   Single-player;Steam Achievements   \n",
       "27071                                      Single-player   \n",
       "27072  Single-player;Multi-player;Co-op;Shared/Split ...   \n",
       "27073                          Single-player;Steam Cloud   \n",
       "27074                          Single-player;Steam Cloud   \n",
       "\n",
       "                       genres                 steamspy_tags  average_playtime  \\\n",
       "0                      Action        Action;FPS;Multiplayer             17612   \n",
       "1                      Action        Action;FPS;Multiplayer               277   \n",
       "2                      Action  FPS;World War II;Multiplayer               187   \n",
       "3                      Action        Action;FPS;Multiplayer               258   \n",
       "4                      Action             FPS;Action;Sci-fi               624   \n",
       "...                       ...                           ...               ...   \n",
       "27070  Adventure;Casual;Indie        Adventure;Indie;Casual                 0   \n",
       "27071  Action;Adventure;Indie        Action;Indie;Adventure                 0   \n",
       "27072     Action;Casual;Indie           Action;Indie;Casual                 0   \n",
       "27073  Adventure;Casual;Indie        Indie;Casual;Adventure                 0   \n",
       "27074  Adventure;Casual;Indie        Indie;Casual;Adventure                 0   \n",
       "\n",
       "       median_playtime  price  total_ratings  percent_positive_ratings  \\\n",
       "0                  317   7.19         127873                  0.973888   \n",
       "1                   62   3.99           3951                  0.839787   \n",
       "2                   34   3.99           3814                  0.895648   \n",
       "3                  184   3.99           1540                  0.826623   \n",
       "4                  415   3.99           5538                  0.947996   \n",
       "...                ...    ...            ...                       ...   \n",
       "27070                0   2.09              3                  1.000000   \n",
       "27071                0   1.69              9                  0.888889   \n",
       "27072                0   3.99              1                  0.000000   \n",
       "27073                0   5.19              2                  1.000000   \n",
       "27074                0   5.19              4                  1.000000   \n",
       "\n",
       "                                    detailed_description  \n",
       "0      Play the world's number 1 online action game. ...  \n",
       "1      One of the most popular online action games of...  \n",
       "2      Enlist in an intense brand of Axis vs. Allied ...  \n",
       "3      Enjoy fast-paced multiplayer gaming with Death...  \n",
       "4      Return to the Black Mesa Research Facility as ...  \n",
       "...                                                  ...  \n",
       "27070  <img src=\"https://steamcdn-a.akamaihd.net/stea...  \n",
       "27071  Have you ever been so lonely that no one but y...  \n",
       "27072  <strong>Super Star Blast </strong>is a space b...  \n",
       "27073  Pursue a snow-white deer through an enchanted ...  \n",
       "27074  A portal has opened and dark magic is pouring ...  \n",
       "\n",
       "[27075 rows x 11 columns]"
      ]
     },
     "execution_count": 9,
     "metadata": {},
     "output_type": "execute_result"
    }
   ],
   "source": [
    "# drop unnecessary columns\n",
    "merge_dataset.drop(columns={\"release_date\",\"english\",\"developer\",\"publisher\",\"platforms\",\"required_age\",\n",
    "                            \"achievements\",\"owners\",\"about_the_game\",\"short_description\"})"
   ]
  },
  {
   "cell_type": "code",
   "execution_count": 12,
   "id": "b2a5424a",
   "metadata": {},
   "outputs": [],
   "source": [
    "# Create a custom function to remove the html tags from the descriptions\n",
    "def remove_html_tags(text):\n",
    "    clean = re.compile('<.*?>')\n",
    "    return re.sub(clean, '', text)\n",
    "\n",
    "def remove_punctuation(text):\n",
    "    return re.sub('[%s]' % re.escape(string.punctuation), '', text)\n",
    "\n",
    "def lower_case(text):\n",
    "    return text.lower()\n",
    "\n",
    "def remove_num(text):\n",
    "    return re.sub('\\w*\\d\\w*','',text)  "
   ]
  },
  {
   "cell_type": "code",
   "execution_count": 13,
   "id": "6d7e1702",
   "metadata": {},
   "outputs": [
    {
     "name": "stderr",
     "output_type": "stream",
     "text": [
      "[nltk_data] Downloading package stopwords to\n",
      "[nltk_data]     C:\\Users\\elaaf\\AppData\\Roaming\\nltk_data...\n",
      "[nltk_data]   Package stopwords is already up-to-date!\n"
     ]
    }
   ],
   "source": [
    "stemmer = nltk.stem.PorterStemmer()\n",
    "nltk.download('stopwords')\n",
    "stopwords = stopwords.words('english')\n",
    "\n",
    "# Custom tokenizer to remove html tags, punctuation, set to lowercase, and remove stopwords\n",
    "def my_tokenizer(sentence):\n",
    "    # Remove HTML tags with custom function\n",
    "    sentence = remove_html_tags(sentence)\n",
    "    \n",
    "    # remove punctuation using string attribute\n",
    "    for punct in string.punctuation:\n",
    "        # set to lower case with built in functions\n",
    "        sentence = sentence.replace(punct,'').lower()\n",
    "\n",
    "    # split into words\n",
    "    words = sentence.split(' ')\n",
    "    stemmed_list = []\n",
    "    \n",
    "    # remove stopwords and any tokens that are just empty strings\n",
    "    for word in words:\n",
    "        if (not word in stopwords) and (word!=''):\n",
    "            # Stem words\n",
    "            stemmed = stemmer.stem(word)\n",
    "            stemmed_list.append(stemmed)\n",
    "\n",
    "    return stemmed_list"
   ]
  },
  {
   "cell_type": "code",
   "execution_count": 14,
   "id": "9fc53500",
   "metadata": {
    "tags": []
   },
   "outputs": [],
   "source": [
    "#merge_dataset[\"detailed_description\"] = merge_dataset[\"detailed_description\"].apply(my_tokenizer)\n",
    "# merge_dataset[\"detailed_description\"] = merge_dataset[\"detailed_description\"].apply(lower_case)\n",
    "# merge_dataset[\"detailed_description\"] = merge_dataset[\"detailed_description\"].apply(remove_num)"
   ]
  },
  {
   "cell_type": "markdown",
   "id": "9bbc0e1d",
   "metadata": {},
   "source": [
    "# Apply TFIDF"
   ]
  },
  {
   "cell_type": "code",
   "execution_count": 19,
   "id": "989ed0a7",
   "metadata": {},
   "outputs": [],
   "source": [
    "# Initial thresholds\n",
    "minimum_descr_count = 5 # do not count words unless they occur in at least this many descriptions\n",
    "maximum_descr_perc = 0.90 # drop words that occur in 90% or more of the descriptions\n",
    "\n",
    "tfidf = TfidfVectorizer(stop_words = stopwords, min_df=minimum_descr_count, \n",
    "                             max_df=maximum_descr_perc, tokenizer=my_tokenizer)                          "
   ]
  },
  {
   "cell_type": "code",
   "execution_count": 20,
   "id": "d249008f",
   "metadata": {},
   "outputs": [
    {
     "name": "stderr",
     "output_type": "stream",
     "text": [
      "C:\\Users\\elaaf\\anaconda3\\lib\\site-packages\\sklearn\\feature_extraction\\text.py:396: UserWarning: Your stop_words may be inconsistent with your preprocessing. Tokenizing the stop words generated tokens ['arent', 'couldnt', 'didnt', 'doesnt', 'dont', 'hadnt', 'hasnt', 'havent', 'isnt', 'mightnt', 'mustnt', 'neednt', 'shant', 'shouldnt', 'shouldv', 'thatll', 'wasnt', 'werent', 'wont', 'wouldnt', 'youd', 'youll', 'youv'] not in stop_words.\n",
      "  warnings.warn(\n"
     ]
    }
   ],
   "source": [
    "tfidf_matrix = tfidf.fit_transform(merge_dataset.detailed_description)"
   ]
  },
  {
   "cell_type": "code",
   "execution_count": 22,
   "id": "9cfba945",
   "metadata": {},
   "outputs": [
    {
     "data": {
      "text/plain": [
       "(27075, 18715)"
      ]
     },
     "execution_count": 22,
     "metadata": {},
     "output_type": "execute_result"
    }
   ],
   "source": [
    "tfidf_matrix.shape"
   ]
  },
  {
   "cell_type": "markdown",
   "id": "a374c5b3",
   "metadata": {},
   "source": [
    "# Applying similarity mitrex"
   ]
  },
  {
   "cell_type": "markdown",
   "id": "0bb74f8f",
   "metadata": {},
   "source": [
    "### recommend system function"
   ]
  },
  {
   "cell_type": "code",
   "execution_count": 23,
   "id": "4db6e85c",
   "metadata": {},
   "outputs": [],
   "source": [
    "# find index of each name to bring the similar game by entring game name\n",
    "indexs = pd.Series(merge_dataset.index, index = merge_dataset.name).drop_duplicates()"
   ]
  },
  {
   "cell_type": "code",
   "execution_count": 24,
   "id": "6f9ec802",
   "metadata": {},
   "outputs": [],
   "source": [
    "# test recommendtion system based on sigmoid_kernel\n",
    "def recomend_game(name, model, num):\n",
    "    indx = indexs[name]\n",
    "    sig_score = list(enumerate(model[indx])) # get similarity score\n",
    "    sig_score = sorted(sig_score, key= lambda x:x[1], reverse = True) # sort game\n",
    "    sig_score = sig_score[1:num+1]\n",
    "    \n",
    "    game_index = [i[0] for i in sig_score] # get index of each score\n",
    "    \n",
    "    return merge_dataset.name.iloc[game_index] # return the name\n",
    "    \n",
    "    "
   ]
  },
  {
   "cell_type": "code",
   "execution_count": 25,
   "id": "b6376a05",
   "metadata": {},
   "outputs": [],
   "source": [
    "def content_recommender(name, games, similarities, vote_threshold=1000, rating_threshold=0.7) :\n",
    "    \n",
    "    # Get the game by the title\n",
    "    game_index = games[games['name']==name].index\n",
    "    \n",
    "    # Create a dataframe with the game id, name, and rating information with similarity\n",
    "    sim_df = pd.DataFrame(\n",
    "        {'appid': games['appid'],\n",
    "         'game': games['name'], \n",
    "         'similarity': np.array(similarities[game_index, :].todense()).squeeze(),\n",
    "         'diversity': 1- np.array(similarities[game_index, :].todense()).squeeze(),\n",
    "         'vote_count': games['total_ratings'],\n",
    "         'percent_positive_ratings': games['percent_positive_ratings']\n",
    "        })\n",
    "    \n",
    "    # Get the top 10 games that satisfy our thresholds\n",
    "    top_games = sim_df[(sim_df['vote_count']>vote_threshold) & \n",
    "                       (sim_df['percent_positive_ratings']>rating_threshold)].sort_values(by='similarity', ascending=False).head(10)\n",
    "    \n",
    "    return top_games"
   ]
  },
  {
   "cell_type": "code",
   "execution_count": 26,
   "id": "a4291d02",
   "metadata": {},
   "outputs": [],
   "source": [
    "def content_recommender2(name, games, similarities, vote_threshold=1000, rating_threshold=0.7) :\n",
    "    \n",
    "    # Get the game by the title\n",
    "    game_index = games[games['name']==name].index\n",
    "    \n",
    "    # Create a dataframe with the game id, name, and rating information with similarity\n",
    "    sim_df = pd.DataFrame(\n",
    "        {'appid': games['appid'],\n",
    "         'game': games['name'], \n",
    "         'similarity': np.array(similarities[game_index, :]).squeeze(),\n",
    "         'diversity': 1 - np.array(similarities[game_index, :]).squeeze(),\n",
    "         'vote_count': games['total_ratings'],\n",
    "         'percent_positive_ratings': games['percent_positive_ratings']\n",
    "        })\n",
    "    \n",
    "    # Get the top 10 games \n",
    "    top_games = sim_df[(sim_df['vote_count']>vote_threshold) & \n",
    "                       (sim_df['percent_positive_ratings']>rating_threshold)].sort_values(by='similarity', ascending=False).head(10)\n",
    "    \n",
    "    return top_games"
   ]
  },
  {
   "cell_type": "markdown",
   "id": "47916bf5",
   "metadata": {},
   "source": [
    "### 1) sigmoid_kernel"
   ]
  },
  {
   "cell_type": "code",
   "execution_count": 27,
   "id": "d4ae3b44",
   "metadata": {},
   "outputs": [],
   "source": [
    "# to find  content based similarity  will try to use sigmoid kernel to find the propabilty of detailed_description similarity\n",
    "sig = sigmoid_kernel(tfidf_matrix,tfidf_matrix)\n",
    "# to much time but works \n"
   ]
  },
  {
   "cell_type": "code",
   "execution_count": 28,
   "id": "a3697998",
   "metadata": {},
   "outputs": [
    {
     "data": {
      "text/plain": [
       "6655             Let's Sing 2016\n",
       "22256                 Idle Heist\n",
       "21486                Dreadnought\n",
       "3575              The Masterplan\n",
       "4438                     rFactor\n",
       "26886               Grand Battle\n",
       "1982               7 Days to Die\n",
       "1357                   Sanctum 2\n",
       "12648    DRAGON QUEST HEROES™ II\n",
       "8928                     Colosse\n",
       "Name: name, dtype: object"
      ]
     },
     "execution_count": 28,
     "metadata": {},
     "output_type": "execute_result"
    }
   ],
   "source": [
    "recomend_game(\"PAYDAY 2\",sig,10)"
   ]
  },
  {
   "cell_type": "code",
   "execution_count": 29,
   "id": "54b658c9",
   "metadata": {},
   "outputs": [
    {
     "data": {
      "text/html": [
       "<div>\n",
       "<style scoped>\n",
       "    .dataframe tbody tr th:only-of-type {\n",
       "        vertical-align: middle;\n",
       "    }\n",
       "\n",
       "    .dataframe tbody tr th {\n",
       "        vertical-align: top;\n",
       "    }\n",
       "\n",
       "    .dataframe thead th {\n",
       "        text-align: right;\n",
       "    }\n",
       "</style>\n",
       "<table border=\"1\" class=\"dataframe\">\n",
       "  <thead>\n",
       "    <tr style=\"text-align: right;\">\n",
       "      <th></th>\n",
       "      <th>appid</th>\n",
       "      <th>game</th>\n",
       "      <th>similarity</th>\n",
       "      <th>diversity</th>\n",
       "      <th>vote_count</th>\n",
       "      <th>percent_positive_ratings</th>\n",
       "    </tr>\n",
       "  </thead>\n",
       "  <tbody>\n",
       "    <tr>\n",
       "      <th>1357</th>\n",
       "      <td>210770</td>\n",
       "      <td>Sanctum 2</td>\n",
       "      <td>0.761599</td>\n",
       "      <td>0.238401</td>\n",
       "      <td>12902</td>\n",
       "      <td>0.901333</td>\n",
       "    </tr>\n",
       "    <tr>\n",
       "      <th>8762</th>\n",
       "      <td>460810</td>\n",
       "      <td>Vanquish</td>\n",
       "      <td>0.761598</td>\n",
       "      <td>0.238402</td>\n",
       "      <td>2687</td>\n",
       "      <td>0.878303</td>\n",
       "    </tr>\n",
       "    <tr>\n",
       "      <th>4382</th>\n",
       "      <td>338170</td>\n",
       "      <td>Ratz Instagib</td>\n",
       "      <td>0.761598</td>\n",
       "      <td>0.238402</td>\n",
       "      <td>2505</td>\n",
       "      <td>0.854291</td>\n",
       "    </tr>\n",
       "    <tr>\n",
       "      <th>1467</th>\n",
       "      <td>218620</td>\n",
       "      <td>PAYDAY 2</td>\n",
       "      <td>0.761617</td>\n",
       "      <td>0.238383</td>\n",
       "      <td>365180</td>\n",
       "      <td>0.845219</td>\n",
       "    </tr>\n",
       "    <tr>\n",
       "      <th>10844</th>\n",
       "      <td>524220</td>\n",
       "      <td>NieR:Automata™</td>\n",
       "      <td>0.761598</td>\n",
       "      <td>0.238402</td>\n",
       "      <td>48801</td>\n",
       "      <td>0.807094</td>\n",
       "    </tr>\n",
       "  </tbody>\n",
       "</table>\n",
       "</div>"
      ],
      "text/plain": [
       "        appid            game  similarity  diversity  vote_count  \\\n",
       "1357   210770       Sanctum 2    0.761599   0.238401       12902   \n",
       "8762   460810        Vanquish    0.761598   0.238402        2687   \n",
       "4382   338170   Ratz Instagib    0.761598   0.238402        2505   \n",
       "1467   218620        PAYDAY 2    0.761617   0.238383      365180   \n",
       "10844  524220  NieR:Automata™    0.761598   0.238402       48801   \n",
       "\n",
       "       percent_positive_ratings  \n",
       "1357                   0.901333  \n",
       "8762                   0.878303  \n",
       "4382                   0.854291  \n",
       "1467                   0.845219  \n",
       "10844                  0.807094  "
      ]
     },
     "execution_count": 29,
     "metadata": {},
     "output_type": "execute_result"
    }
   ],
   "source": [
    "similar_games = content_recommender2('PAYDAY 2', merge_dataset, sig, \n",
    "                                    rating_threshold=0.80)\n",
    "similar_games.head(5).sort_values(by='percent_positive_ratings',ascending=False)\n",
    "# the less diversity the better"
   ]
  },
  {
   "cell_type": "markdown",
   "id": "727bcb95",
   "metadata": {},
   "source": [
    "### 2) cosine_similarity"
   ]
  },
  {
   "cell_type": "code",
   "execution_count": 129,
   "id": "ea15aca2",
   "metadata": {},
   "outputs": [],
   "source": [
    "similarities = cosine_similarity(tfidf_matrix, dense_output=False)\n",
    "# take to much time"
   ]
  },
  {
   "cell_type": "code",
   "execution_count": 130,
   "id": "f7bf1961",
   "metadata": {},
   "outputs": [
    {
     "data": {
      "text/plain": [
       "<27075x27075 sparse matrix of type '<class 'numpy.float64'>'\n",
       "\twith 696023852 stored elements in Compressed Sparse Row format>"
      ]
     },
     "execution_count": 130,
     "metadata": {},
     "output_type": "execute_result"
    }
   ],
   "source": [
    "similarities"
   ]
  },
  {
   "cell_type": "code",
   "execution_count": 141,
   "id": "3c402579",
   "metadata": {},
   "outputs": [
    {
     "data": {
      "text/html": [
       "<div>\n",
       "<style scoped>\n",
       "    .dataframe tbody tr th:only-of-type {\n",
       "        vertical-align: middle;\n",
       "    }\n",
       "\n",
       "    .dataframe tbody tr th {\n",
       "        vertical-align: top;\n",
       "    }\n",
       "\n",
       "    .dataframe thead th {\n",
       "        text-align: right;\n",
       "    }\n",
       "</style>\n",
       "<table border=\"1\" class=\"dataframe\">\n",
       "  <thead>\n",
       "    <tr style=\"text-align: right;\">\n",
       "      <th></th>\n",
       "      <th>appid</th>\n",
       "      <th>game</th>\n",
       "      <th>similarity</th>\n",
       "      <th>diversity</th>\n",
       "      <th>vote_count</th>\n",
       "      <th>percent_positive_ratings</th>\n",
       "    </tr>\n",
       "  </thead>\n",
       "  <tbody>\n",
       "    <tr>\n",
       "      <th>1357</th>\n",
       "      <td>210770</td>\n",
       "      <td>Sanctum 2</td>\n",
       "      <td>0.197968</td>\n",
       "      <td>8.020316e-01</td>\n",
       "      <td>12902</td>\n",
       "      <td>0.901333</td>\n",
       "    </tr>\n",
       "    <tr>\n",
       "      <th>8762</th>\n",
       "      <td>460810</td>\n",
       "      <td>Vanquish</td>\n",
       "      <td>0.177617</td>\n",
       "      <td>8.223830e-01</td>\n",
       "      <td>2687</td>\n",
       "      <td>0.878303</td>\n",
       "    </tr>\n",
       "    <tr>\n",
       "      <th>4382</th>\n",
       "      <td>338170</td>\n",
       "      <td>Ratz Instagib</td>\n",
       "      <td>0.179991</td>\n",
       "      <td>8.200088e-01</td>\n",
       "      <td>2505</td>\n",
       "      <td>0.854291</td>\n",
       "    </tr>\n",
       "    <tr>\n",
       "      <th>1467</th>\n",
       "      <td>218620</td>\n",
       "      <td>PAYDAY 2</td>\n",
       "      <td>1.000000</td>\n",
       "      <td>-2.220446e-16</td>\n",
       "      <td>365180</td>\n",
       "      <td>0.845219</td>\n",
       "    </tr>\n",
       "    <tr>\n",
       "      <th>10844</th>\n",
       "      <td>524220</td>\n",
       "      <td>NieR:Automata™</td>\n",
       "      <td>0.186830</td>\n",
       "      <td>8.131701e-01</td>\n",
       "      <td>48801</td>\n",
       "      <td>0.807094</td>\n",
       "    </tr>\n",
       "  </tbody>\n",
       "</table>\n",
       "</div>"
      ],
      "text/plain": [
       "        appid            game  similarity     diversity  vote_count  \\\n",
       "1357   210770       Sanctum 2    0.197968  8.020316e-01       12902   \n",
       "8762   460810        Vanquish    0.177617  8.223830e-01        2687   \n",
       "4382   338170   Ratz Instagib    0.179991  8.200088e-01        2505   \n",
       "1467   218620        PAYDAY 2    1.000000 -2.220446e-16      365180   \n",
       "10844  524220  NieR:Automata™    0.186830  8.131701e-01       48801   \n",
       "\n",
       "       percent_positive_ratings  \n",
       "1357                   0.901333  \n",
       "8762                   0.878303  \n",
       "4382                   0.854291  \n",
       "1467                   0.845219  \n",
       "10844                  0.807094  "
      ]
     },
     "execution_count": 141,
     "metadata": {},
     "output_type": "execute_result"
    }
   ],
   "source": [
    "similar_games = content_recommender('PAYDAY 2', merge_dataset, similarities, \n",
    "                                    rating_threshold=0.80)\n",
    "similar_games.head(5).sort_values(by='percent_positive_ratings',ascending=False)"
   ]
  },
  {
   "cell_type": "markdown",
   "id": "2c2d1ffb",
   "metadata": {},
   "source": [
    "### 3) cosine_similarity with norm"
   ]
  },
  {
   "cell_type": "code",
   "execution_count": 123,
   "id": "99e309dc",
   "metadata": {},
   "outputs": [],
   "source": [
    "# the defult use 64 i will try using float32 but will be have of accuracy \n",
    "normalized_df = tfidf_matrix.astype(np.float32)\n",
    "cosine_sim = cosine_similarity(normalized_df, normalized_df)"
   ]
  },
  {
   "cell_type": "code",
   "execution_count": 124,
   "id": "fac4a179",
   "metadata": {},
   "outputs": [
    {
     "data": {
      "text/html": [
       "<div>\n",
       "<style scoped>\n",
       "    .dataframe tbody tr th:only-of-type {\n",
       "        vertical-align: middle;\n",
       "    }\n",
       "\n",
       "    .dataframe tbody tr th {\n",
       "        vertical-align: top;\n",
       "    }\n",
       "\n",
       "    .dataframe thead th {\n",
       "        text-align: right;\n",
       "    }\n",
       "</style>\n",
       "<table border=\"1\" class=\"dataframe\">\n",
       "  <thead>\n",
       "    <tr style=\"text-align: right;\">\n",
       "      <th></th>\n",
       "      <th>appid</th>\n",
       "      <th>game</th>\n",
       "      <th>similarity</th>\n",
       "      <th>diversity</th>\n",
       "      <th>vote_count</th>\n",
       "      <th>percent_positive_ratings</th>\n",
       "    </tr>\n",
       "  </thead>\n",
       "  <tbody>\n",
       "    <tr>\n",
       "      <th>1357</th>\n",
       "      <td>210770</td>\n",
       "      <td>Sanctum 2</td>\n",
       "      <td>0.197968</td>\n",
       "      <td>0.802032</td>\n",
       "      <td>12902</td>\n",
       "      <td>0.901333</td>\n",
       "    </tr>\n",
       "    <tr>\n",
       "      <th>8762</th>\n",
       "      <td>460810</td>\n",
       "      <td>Vanquish</td>\n",
       "      <td>0.177617</td>\n",
       "      <td>0.822383</td>\n",
       "      <td>2687</td>\n",
       "      <td>0.878303</td>\n",
       "    </tr>\n",
       "    <tr>\n",
       "      <th>4382</th>\n",
       "      <td>338170</td>\n",
       "      <td>Ratz Instagib</td>\n",
       "      <td>0.179991</td>\n",
       "      <td>0.820009</td>\n",
       "      <td>2505</td>\n",
       "      <td>0.854291</td>\n",
       "    </tr>\n",
       "    <tr>\n",
       "      <th>1467</th>\n",
       "      <td>218620</td>\n",
       "      <td>PAYDAY 2</td>\n",
       "      <td>1.000000</td>\n",
       "      <td>0.000000</td>\n",
       "      <td>365180</td>\n",
       "      <td>0.845219</td>\n",
       "    </tr>\n",
       "    <tr>\n",
       "      <th>10844</th>\n",
       "      <td>524220</td>\n",
       "      <td>NieR:Automata™</td>\n",
       "      <td>0.186830</td>\n",
       "      <td>0.813170</td>\n",
       "      <td>48801</td>\n",
       "      <td>0.807094</td>\n",
       "    </tr>\n",
       "  </tbody>\n",
       "</table>\n",
       "</div>"
      ],
      "text/plain": [
       "        appid            game  similarity  diversity  vote_count  \\\n",
       "1357   210770       Sanctum 2    0.197968   0.802032       12902   \n",
       "8762   460810        Vanquish    0.177617   0.822383        2687   \n",
       "4382   338170   Ratz Instagib    0.179991   0.820009        2505   \n",
       "1467   218620        PAYDAY 2    1.000000   0.000000      365180   \n",
       "10844  524220  NieR:Automata™    0.186830   0.813170       48801   \n",
       "\n",
       "       percent_positive_ratings  \n",
       "1357                   0.901333  \n",
       "8762                   0.878303  \n",
       "4382                   0.854291  \n",
       "1467                   0.845219  \n",
       "10844                  0.807094  "
      ]
     },
     "execution_count": 124,
     "metadata": {},
     "output_type": "execute_result"
    }
   ],
   "source": [
    "similar_games = content_recommender2('PAYDAY 2', merge_dataset, cosine_sim, \n",
    "                                    rating_threshold=0.80)\n",
    "similar_games.head(5).sort_values(by='percent_positive_ratings',ascending=False)"
   ]
  },
  {
   "cell_type": "markdown",
   "id": "78debaa3",
   "metadata": {},
   "source": [
    "### 4) linear_kernel"
   ]
  },
  {
   "cell_type": "code",
   "execution_count": 61,
   "id": "61b258f3",
   "metadata": {},
   "outputs": [],
   "source": [
    "lk = linear_kernel(tfidf_matrix, tfidf_matrix)"
   ]
  },
  {
   "cell_type": "code",
   "execution_count": 120,
   "id": "638d6823",
   "metadata": {},
   "outputs": [
    {
     "data": {
      "text/plain": [
       "6655             Let's Sing 2016\n",
       "22256                 Idle Heist\n",
       "21486                Dreadnought\n",
       "3575              The Masterplan\n",
       "4438                     rFactor\n",
       "26886               Grand Battle\n",
       "1982               7 Days to Die\n",
       "1357                   Sanctum 2\n",
       "12648    DRAGON QUEST HEROES™ II\n",
       "8928                     Colosse\n",
       "Name: name, dtype: object"
      ]
     },
     "execution_count": 120,
     "metadata": {},
     "output_type": "execute_result"
    }
   ],
   "source": [
    "recomend_game(\"PAYDAY 2\",lk,10)"
   ]
  },
  {
   "cell_type": "code",
   "execution_count": 122,
   "id": "0680145c",
   "metadata": {},
   "outputs": [
    {
     "data": {
      "text/html": [
       "<div>\n",
       "<style scoped>\n",
       "    .dataframe tbody tr th:only-of-type {\n",
       "        vertical-align: middle;\n",
       "    }\n",
       "\n",
       "    .dataframe tbody tr th {\n",
       "        vertical-align: top;\n",
       "    }\n",
       "\n",
       "    .dataframe thead th {\n",
       "        text-align: right;\n",
       "    }\n",
       "</style>\n",
       "<table border=\"1\" class=\"dataframe\">\n",
       "  <thead>\n",
       "    <tr style=\"text-align: right;\">\n",
       "      <th></th>\n",
       "      <th>appid</th>\n",
       "      <th>game</th>\n",
       "      <th>similarity</th>\n",
       "      <th>diversity</th>\n",
       "      <th>vote_count</th>\n",
       "      <th>percent_positive_ratings</th>\n",
       "    </tr>\n",
       "  </thead>\n",
       "  <tbody>\n",
       "    <tr>\n",
       "      <th>1357</th>\n",
       "      <td>210770</td>\n",
       "      <td>Sanctum 2</td>\n",
       "      <td>0.197968</td>\n",
       "      <td>0.802032</td>\n",
       "      <td>12902</td>\n",
       "      <td>0.901333</td>\n",
       "    </tr>\n",
       "    <tr>\n",
       "      <th>8762</th>\n",
       "      <td>460810</td>\n",
       "      <td>Vanquish</td>\n",
       "      <td>0.177617</td>\n",
       "      <td>0.822383</td>\n",
       "      <td>2687</td>\n",
       "      <td>0.878303</td>\n",
       "    </tr>\n",
       "    <tr>\n",
       "      <th>4382</th>\n",
       "      <td>338170</td>\n",
       "      <td>Ratz Instagib</td>\n",
       "      <td>0.179991</td>\n",
       "      <td>0.820009</td>\n",
       "      <td>2505</td>\n",
       "      <td>0.854291</td>\n",
       "    </tr>\n",
       "    <tr>\n",
       "      <th>1467</th>\n",
       "      <td>218620</td>\n",
       "      <td>PAYDAY 2</td>\n",
       "      <td>1.000000</td>\n",
       "      <td>0.000000</td>\n",
       "      <td>365180</td>\n",
       "      <td>0.845219</td>\n",
       "    </tr>\n",
       "    <tr>\n",
       "      <th>10844</th>\n",
       "      <td>524220</td>\n",
       "      <td>NieR:Automata™</td>\n",
       "      <td>0.186830</td>\n",
       "      <td>0.813170</td>\n",
       "      <td>48801</td>\n",
       "      <td>0.807094</td>\n",
       "    </tr>\n",
       "  </tbody>\n",
       "</table>\n",
       "</div>"
      ],
      "text/plain": [
       "        appid            game  similarity  diversity  vote_count  \\\n",
       "1357   210770       Sanctum 2    0.197968   0.802032       12902   \n",
       "8762   460810        Vanquish    0.177617   0.822383        2687   \n",
       "4382   338170   Ratz Instagib    0.179991   0.820009        2505   \n",
       "1467   218620        PAYDAY 2    1.000000   0.000000      365180   \n",
       "10844  524220  NieR:Automata™    0.186830   0.813170       48801   \n",
       "\n",
       "       percent_positive_ratings  \n",
       "1357                   0.901333  \n",
       "8762                   0.878303  \n",
       "4382                   0.854291  \n",
       "1467                   0.845219  \n",
       "10844                  0.807094  "
      ]
     },
     "execution_count": 122,
     "metadata": {},
     "output_type": "execute_result"
    }
   ],
   "source": [
    "similar_games = content_recommender2('PAYDAY 2', merge_dataset, lk, \n",
    "                                    rating_threshold=0.80)\n",
    "similar_games.head(5).sort_values(by='percent_positive_ratings',ascending=False)"
   ]
  },
  {
   "cell_type": "markdown",
   "id": "a9a0cc22",
   "metadata": {},
   "source": [
    "# Pickel"
   ]
  },
  {
   "cell_type": "code",
   "execution_count": 56,
   "id": "57fc6723",
   "metadata": {},
   "outputs": [],
   "source": [
    "filename = 'tfidf_matrix.pkl'\n",
    "pickle.dump(tfidf_matrix, open(filename, 'wb'))"
   ]
  },
  {
   "cell_type": "code",
   "execution_count": 143,
   "id": "95d21d12",
   "metadata": {},
   "outputs": [],
   "source": [
    "filename = 'cosine_similarity_model.pkl'\n",
    "pickle.dump(similarities, open(filename, 'wb'))"
   ]
  },
  {
   "cell_type": "code",
   "execution_count": 30,
   "id": "838f2ccb",
   "metadata": {},
   "outputs": [],
   "source": [
    "filename = 'sigmoid.pkl'\n",
    "pickle.dump(sig, open(filename, 'wb'))"
   ]
  }
 ],
 "metadata": {
  "kernelspec": {
   "display_name": "Python 3",
   "language": "python",
   "name": "python3"
  },
  "language_info": {
   "codemirror_mode": {
    "name": "ipython",
    "version": 3
   },
   "file_extension": ".py",
   "mimetype": "text/x-python",
   "name": "python",
   "nbconvert_exporter": "python",
   "pygments_lexer": "ipython3",
   "version": "3.8.8"
  }
 },
 "nbformat": 4,
 "nbformat_minor": 5
}
