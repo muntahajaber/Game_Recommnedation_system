{
 "cells": [
  {
   "cell_type": "markdown",
   "id": "10eb6d54",
   "metadata": {},
   "source": [
    "# Imports"
   ]
  },
  {
   "cell_type": "code",
   "execution_count": 1,
   "id": "c2b4c854",
   "metadata": {},
   "outputs": [],
   "source": [
    "import numpy as np\n",
    "import pandas as pd\n",
    "import matplotlib.pyplot as plt\n",
    "from sklearn.feature_extraction.text import TfidfVectorizer,CountVectorizer\n",
    "from sklearn.metrics.pairwise import sigmoid_kernel, paired_cosine_distances, cosine_similarity\n",
    "from nltk.corpus import stopwords\n",
    "import nltk\n",
    "import streamlit as st\n",
    "import shap\n",
    "import streamlit.components.v1 as stc\n",
    "import pickle\n",
    "import time\n",
    "import _pickle as cPickle\n",
    "# import cPickle as pickle\n",
    "import gc"
   ]
  },
  {
   "cell_type": "code",
   "execution_count": 2,
   "id": "884a51a0",
   "metadata": {},
   "outputs": [],
   "source": [
    "merge_dataset = pd.read_csv(\"/Users/muntaha/Documents/Project4_v2/Game_Recommnedation_system/Data/merged_description.csv\", index_col= 0)\n",
    "game_images = pd.read_csv(\"/Users/muntaha/Documents/Project4_v2/new_game_data/steam_media_data.csv\")\n"
   ]
  },
  {
   "cell_type": "code",
   "execution_count": 3,
   "id": "60b6e9d4",
   "metadata": {},
   "outputs": [],
   "source": [
    "new_data = game_images.rename(index=str, columns={\"steam_appid\":\"appid\"})\n",
    "#merge two datasets\n",
    "merge_dataset_image = merge_dataset.merge(new_data, on=\"appid\")"
   ]
  },
  {
   "cell_type": "markdown",
   "id": "d5442e88",
   "metadata": {},
   "source": [
    "## Load TFIDF"
   ]
  },
  {
   "cell_type": "code",
   "execution_count": 4,
   "id": "b8f2f246",
   "metadata": {},
   "outputs": [],
   "source": [
    "tfidf_matrix = pickle.load(open(\"/Users/muntaha/Documents/Project4_v2/Game_Recommnedation_system/Code/tfidf_matrix.pkl\", 'rb'))"
   ]
  },
  {
   "cell_type": "markdown",
   "id": "618422eb",
   "metadata": {},
   "source": [
    "# Model"
   ]
  },
  {
   "cell_type": "code",
   "execution_count": 54,
   "id": "9c9c677c",
   "metadata": {},
   "outputs": [],
   "source": [
    "def content_recommender2(name_list,list_game_type ,games, similarities, vote_threshold=1000, rating_threshold=0.7) :\n",
    "    i = 0\n",
    "    j = 0\n",
    "    \n",
    "\n",
    "        \n",
    "    recomended_game_name = {}\n",
    "    game_index = []\n",
    "    \n",
    "    top_games = pd.DataFrame()\n",
    "    \n",
    "#     find name index that is same game type \n",
    "    for name in name_list: #2\n",
    "        if list(games.iloc[games[games['name']==name_list[i]].index].genres)[0]:\n",
    "            print(list(games.iloc[games[games['name']==name_list[i]].index].genres)[0])\n",
    "            game_index.insert(j,games[games['name']==name_list[i]].index)\n",
    "            i = i+1\n",
    "            j = j+1\n",
    "        \n",
    "        else:\n",
    "            i = i+1\n",
    "            continue\n",
    "    \n",
    "    for x , y in zip(range(len(name_list)), range(len(game_index))):\n",
    "        sim_df = pd.DataFrame(\n",
    "            {'appid': games['appid'],\n",
    "             'game': games['name'], \n",
    "             'game_type': games['genres'], \n",
    "             'similarity': np.array(similarities[game_index[y], :].todense()).squeeze(),\n",
    "             'diversity': 1- np.array(similarities[game_index[y], :].todense()).squeeze(),\n",
    "             'vote_count': games['total_ratings'],\n",
    "         'percent_positive_ratings': games['percent_positive_ratings']})\n",
    "        \n",
    "        \n",
    "    \n",
    "        \n",
    "        top_games = sim_df[(sim_df['vote_count'] > vote_threshold) & \n",
    "                           (sim_df['percent_positive_ratings']>rating_threshold)].sort_values(by='similarity', ascending=False)\n",
    "        \n",
    "        \n",
    "        for t,j in zip(top_games.game, top_games.game_type):\n",
    "            recomended_game_name[t] = j\n",
    "        \n",
    "        \n",
    "    return recomended_game_name, top_games"
   ]
  },
  {
   "cell_type": "code",
   "execution_count": 213,
   "id": "8fd35cff",
   "metadata": {},
   "outputs": [],
   "source": [
    "def type_based(list_game_type,games,vote_threshold=1000, rating_threshold=0.7):\n",
    "    index = merge_dataset_image[(merge_dataset_image.genres == list_game_type[0]) & \n",
    "                                (merge_dataset_image.total_ratings > vote_threshold) &\n",
    "                                (merge_dataset_image.percent_positive_ratings > rating_threshold)].sort_values(by='percent_positive_ratings', ascending=False).index\n",
    "    \n",
    "    index = index[0:10]\n",
    "    dicitt = {}\n",
    "    for x in index:\n",
    "        dicitt[merge_dataset_image.name.loc[x]] = merge_dataset_image.header_image.loc[x]\n",
    "    return dicitt\n",
    "\n",
    "    "
   ]
  },
  {
   "cell_type": "markdown",
   "id": "06eecdd2",
   "metadata": {},
   "source": [
    "### 1) sigmoid_kernel"
   ]
  },
  {
   "cell_type": "code",
   "execution_count": 9,
   "id": "10c40ab4",
   "metadata": {},
   "outputs": [
    {
     "name": "stderr",
     "output_type": "stream",
     "text": [
      "2021-11-10 23:46:09.686 INFO    numexpr.utils: NumExpr defaulting to 4 threads.\n"
     ]
    }
   ],
   "source": [
    "list_game_name = ['PAYDAY 2', 'Unturned', \"Tom Clancy's Rainbow Six® Siege\", 'Rust']\n",
    "\n",
    "top_games = merge_dataset_image[(merge_dataset_image['total_ratings']>1000) & \n",
    "                           (merge_dataset_image['percent_positive_ratings']>0.80)].sort_values(by='total_ratings',ascending=False).head(8)\n",
    "\n",
    "list_of_top_games = list(top_games.name)\n",
    "listt = []\n",
    "for x in list_game_name:\n",
    "    listt.append(top_games[top_games.name == x].index[0])\n",
    "\n",
    "\n",
    "top_games.drop(listt, axis=0, inplace=True)\n",
    "\n",
    "\n"
   ]
  },
  {
   "cell_type": "markdown",
   "id": "0e0bf0fa",
   "metadata": {},
   "source": [
    "### 2) cosine_similarity"
   ]
  },
  {
   "cell_type": "code",
   "execution_count": 7,
   "id": "d28f52cc",
   "metadata": {},
   "outputs": [],
   "source": [
    "f = open(\"/Users/muntaha/Documents/Project4_v2/Game_Recommnedation_system/Code/cosine_similarity_model.pkl\", 'rb')\n",
    "gc.disable()\n",
    "similarities = cPickle.load(f)\n",
    "gc.enable()\n",
    "f.close()"
   ]
  },
  {
   "cell_type": "markdown",
   "id": "acf63198",
   "metadata": {},
   "source": [
    "# web streamlite"
   ]
  },
  {
   "cell_type": "code",
   "execution_count": null,
   "id": "71294df8",
   "metadata": {},
   "outputs": [],
   "source": [
    "\n",
    "def main():\n",
    "    \n",
    "    similarities = read_cosine_similarity_model()\n",
    "    \n",
    "    page_bg_img = '''\n",
    "    <style>\n",
    "    body {\n",
    "    background-image: url(\"https://images.alphacoders.com/709/709974.jpg\");\n",
    "    background-size: cover;}\n",
    "    </style>\n",
    "    '''\n",
    "    st.markdown(page_bg_img, unsafe_allow_html=True)\n",
    "    \n",
    "    st.title(\"Game Recommendation App\")\n",
    "    st.markdown(\"\"\"---\"\"\")\n",
    "    st.write(\"Choose Games you play\")\n",
    "    \n",
    "    checkbox1 = st.checkbox(\"Counter-Strike\")\n",
    "    checkbox2 = st.checkbox(\"PAYDAY 2\")\n",
    "    time.sleep(2)\n",
    "    \n",
    "    #     here all images\n",
    "    image = merge_dataset_image.head(1).header_image.to_string(index=False).lstrip()\n",
    "    st.image(\"https://steamcdn-a.akamaihd.net/steam/apps/10/header.jpg?t=1528733245\")\n",
    "    \n",
    "    \n",
    "\n",
    "    \n",
    "    \n",
    "    list_game_name,list_game_type = collect_values(checkbox1,checkbox2)\n",
    "    st.write(list_game_name)\n",
    "    st.write(list_game_type)\n",
    "    \n",
    "    if st.button(\"Recommend\"):\n",
    "        st.markdown(\"\"\"---\"\"\")\n",
    "        predect_game(list_game_name,list_game_type,similarities)\n",
    "        st.write(list_game_name)\n",
    "        st.write(list_game_type)\n",
    "\n",
    "                        \n",
    "        \n",
    "            \n",
    "            \n",
    "\n",
    "def game_type():\n",
    "    time.sleep(2)\n",
    "    listt = []\n",
    "    option = st.selectbox('Choose game type you like:',('Action','Casual','Strategy','Action;RPG'))\n",
    "    st.write('You selected:', option)\n",
    "    listt.append(option)\n",
    "    listt.append(option)\n",
    "\n",
    "    time.sleep(2)\n",
    "    return listt\n",
    "\n",
    "def game_name(g1,g2):\n",
    "    time.sleep(2)\n",
    "    listt = []\n",
    "    if g1:\n",
    "        listt.append(\"Counter-Strike\")\n",
    "    if g2:\n",
    "        listt.append(\"PAYDAY 2\")\n",
    "    time.sleep(2)\n",
    "    return listt\n",
    "\n",
    "    \n",
    "\n",
    "def predect_game(list_game_name,list_game_type,similarities):\n",
    "    st.write(\"All recommended games:\")\n",
    "    st.markdown(\"\"\"---\"\"\")\n",
    "    similar_games_dict, similar_games_df  = content_recommender2(list_game_name, list_game_type,merge_dataset, similarities, \n",
    "                                                                 rating_threshold=0.80)\n",
    "    time.sleep(1)\n",
    "    st.write(\"herre\")\n",
    "    st.write(similar_games_df)\n",
    "    \n",
    "    \n",
    "def collect_values(checkbox1,checkbox2):\n",
    "    time.sleep(2)\n",
    "    st.markdown(\"\"\"---\"\"\")\n",
    "    list_game_name = game_name(checkbox1,checkbox2)\n",
    "    list_game_type = game_type()  \n",
    "        \n",
    "#         if st.button(\"Recommend\"):\n",
    "#             time.sleep(2)\n",
    "#             st.markdown(\"\"\"---\"\"\")\n",
    "#             predect_game(list_game_name,list_game_type)\n",
    "                 \n",
    "    return list_game_name,list_game_type\n",
    "\n",
    "@st.cache(allow_output_mutation = True)\n",
    "def read_cosine_similarity_model():\n",
    "    f = open(\"/Users/muntaha/Documents/Project4_v2/Game_Recommnedation_system/Code/cosine_similarity_model.pkl\", 'rb')\n",
    "    gc.disable()\n",
    "    similarities = cPickle.load(f)\n",
    "    gc.enable()\n",
    "    f.close()\n",
    "    return similarities\n",
    "\n",
    "\n",
    "\n",
    "if __name__ == '__main__':\n",
    "    main()"
   ]
  }
 ],
 "metadata": {
  "kernelspec": {
   "display_name": "Python 3",
   "language": "python",
   "name": "python3"
  },
  "language_info": {
   "codemirror_mode": {
    "name": "ipython",
    "version": 3
   },
   "file_extension": ".py",
   "mimetype": "text/x-python",
   "name": "python",
   "nbconvert_exporter": "python",
   "pygments_lexer": "ipython3",
   "version": "3.8.8"
  }
 },
 "nbformat": 4,
 "nbformat_minor": 5
}
