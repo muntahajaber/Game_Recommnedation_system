{
 "cells": [
  {
   "cell_type": "markdown",
   "id": "a441a856-0609-4ca7-b2ba-559452472e44",
   "metadata": {},
   "source": [
    "# Pre-Processing\n",
    "In this notebook we are going to clean steam data, game description and reviews."
   ]
  },
  {
   "cell_type": "markdown",
   "id": "ee4a6f05-e6ef-4d2c-8e25-1d82683b19b6",
   "metadata": {},
   "source": [
    "## imports"
   ]
  },
  {
   "cell_type": "code",
   "execution_count": 1,
   "id": "0f41d6aa-2ac8-4ee1-bf78-c30c195dd895",
   "metadata": {},
   "outputs": [],
   "source": [
    "import nltk"
   ]
  },
  {
   "cell_type": "code",
   "execution_count": 2,
   "id": "8f3826fc-e7d1-430b-98d8-1616b6d6909c",
   "metadata": {},
   "outputs": [],
   "source": [
    "import numpy as np\n",
    "import pandas as pd\n",
    "import re\n",
    "import string\n",
    "from nltk.corpus import stopwords\n",
    "from sklearn.feature_extraction.text import TfidfVectorizer"
   ]
  },
  {
   "cell_type": "code",
   "execution_count": 168,
   "id": "3207eeb2-def9-4ed5-898e-90b7d9ab4411",
   "metadata": {},
   "outputs": [],
   "source": [
    "steam       = pd.read_csv(r\"C:\\Users\\elaaf\\Desktop\\SDS\\project_4_data\\steam.csv\")\n",
    "description = pd.read_csv(r\"C:\\Users\\elaaf\\Desktop\\SDS\\project_4_data\\steam_description_data.csv\")\n",
    "reviews     = pd.read_csv(r\"C:\\Users\\elaaf\\Desktop\\SDS\\project_4_data\\steam_reviews.csv\")"
   ]
  },
  {
   "cell_type": "markdown",
   "id": "af1b2678-ac85-45a2-b88e-6ec9533d6c97",
   "metadata": {},
   "source": [
    "## 1. Steam reviews cleaning "
   ]
  },
  {
   "cell_type": "code",
   "execution_count": 169,
   "id": "fd045e7a-bb53-42c4-8aef-d9137047bfed",
   "metadata": {},
   "outputs": [
    {
     "data": {
      "text/plain": [
       "(434891, 8)"
      ]
     },
     "execution_count": 169,
     "metadata": {},
     "output_type": "execute_result"
    }
   ],
   "source": [
    "reviews.shape"
   ]
  },
  {
   "cell_type": "code",
   "execution_count": 170,
   "id": "2f92834c-6c47-452f-bf88-73a6567e194c",
   "metadata": {},
   "outputs": [
    {
     "data": {
      "text/plain": [
       "Index(['date_posted', 'funny', 'helpful', 'hour_played',\n",
       "       'is_early_access_review', 'recommendation', 'review', 'title'],\n",
       "      dtype='object')"
      ]
     },
     "execution_count": 170,
     "metadata": {},
     "output_type": "execute_result"
    }
   ],
   "source": [
    "reviews.columns"
   ]
  },
  {
   "cell_type": "code",
   "execution_count": 171,
   "id": "102d12c9-5a10-4638-b46c-86398ebc5e5a",
   "metadata": {},
   "outputs": [
    {
     "data": {
      "text/html": [
       "<div>\n",
       "<style scoped>\n",
       "    .dataframe tbody tr th:only-of-type {\n",
       "        vertical-align: middle;\n",
       "    }\n",
       "\n",
       "    .dataframe tbody tr th {\n",
       "        vertical-align: top;\n",
       "    }\n",
       "\n",
       "    .dataframe thead th {\n",
       "        text-align: right;\n",
       "    }\n",
       "</style>\n",
       "<table border=\"1\" class=\"dataframe\">\n",
       "  <thead>\n",
       "    <tr style=\"text-align: right;\">\n",
       "      <th></th>\n",
       "      <th>date_posted</th>\n",
       "      <th>funny</th>\n",
       "      <th>helpful</th>\n",
       "      <th>hour_played</th>\n",
       "      <th>is_early_access_review</th>\n",
       "      <th>recommendation</th>\n",
       "      <th>review</th>\n",
       "      <th>title</th>\n",
       "    </tr>\n",
       "  </thead>\n",
       "  <tbody>\n",
       "    <tr>\n",
       "      <th>0</th>\n",
       "      <td>2019-02-10</td>\n",
       "      <td>2</td>\n",
       "      <td>4</td>\n",
       "      <td>578</td>\n",
       "      <td>False</td>\n",
       "      <td>Recommended</td>\n",
       "      <td>&amp;gt Played as German Reich&amp;gt Declare war on B...</td>\n",
       "      <td>Expansion - Hearts of Iron IV: Man the Guns</td>\n",
       "    </tr>\n",
       "  </tbody>\n",
       "</table>\n",
       "</div>"
      ],
      "text/plain": [
       "  date_posted  funny  helpful  hour_played  is_early_access_review  \\\n",
       "0  2019-02-10      2        4          578                   False   \n",
       "\n",
       "  recommendation                                             review  \\\n",
       "0    Recommended  &gt Played as German Reich&gt Declare war on B...   \n",
       "\n",
       "                                         title  \n",
       "0  Expansion - Hearts of Iron IV: Man the Guns  "
      ]
     },
     "execution_count": 171,
     "metadata": {},
     "output_type": "execute_result"
    }
   ],
   "source": [
    "reviews.head(1)"
   ]
  },
  {
   "cell_type": "code",
   "execution_count": 172,
   "id": "d86b1cc1-001a-450f-875e-a75fb9ce365d",
   "metadata": {},
   "outputs": [
    {
     "data": {
      "text/plain": [
       "title\n",
       "Survivor Pass: Vikendi                                3\n",
       "Sid Meier’s Civilization® VI: Rise and Fall           3\n",
       "Sid Meier's Civilization® VI: Gathering Storm         3\n",
       "Expansion - Hearts of Iron IV: Man the Guns           3\n",
       "ACE COMBAT™ 7: SKIES UNKNOWN                         10\n",
       "Tom Clancy's Rainbow Six® Siege                      10\n",
       "Tannenberg                                           10\n",
       "Subnautica: Below Zero                               10\n",
       "Pathfinder: Kingmaker                                10\n",
       "Overcooked! 2                                        10\n",
       "NBA 2K19                                             10\n",
       "My Time At Portia                                    10\n",
       "Wargroove                                            10\n",
       "Kenshi                                               10\n",
       "GOD EATER 3                                          10\n",
       "Moonlighter                                          10\n",
       "Warhammer 40,000: Mechanicus                         10\n",
       "Football Manager 2019                                10\n",
       "Battlefleet Gothic: Armada 2                         10\n",
       "Beat Saber                                           10\n",
       "Farming Simulator 19                                 10\n",
       "Cold Waters                                          10\n",
       "Foundation                                           10\n",
       "Don't Starve Together                               165\n",
       "Wallpaper Engine                                    169\n",
       "Factorio                                            170\n",
       "Human: Fall Flat                                    172\n",
       "Divinity: Original Sin 2 - Definitive Edition       190\n",
       "ARK: Survival Evolved                               194\n",
       "Stardew Valley                                      202\n",
       "Garry's Mod                                         202\n",
       "RimWorld                                            204\n",
       "Insurgency: Sandstorm                               220\n",
       "Left 4 Dead 2                                       221\n",
       "Subnautica                                          247\n",
       "Terraria                                            260\n",
       "Slay the Spire                                      260\n",
       "Euro Truck Simulator 2                              499\n",
       "Sid Meier’s Civilization® VI                        522\n",
       "RESIDENT EVIL 2 / BIOHAZARD RE:2                   1384\n",
       "The Elder Scrolls V: Skyrim Special Edition        1471\n",
       "ASTRONEER                                          2658\n",
       "MONSTER HUNTER: WORLD                             18390\n",
       "Dead by Daylight                                  22178\n",
       "Rocket League®                                    67765\n",
       "Rust                                              70907\n",
       "Grand Theft Auto V                                99677\n",
       "PLAYERUNKNOWN'S BATTLEGROUNDS                    144846\n",
       "Name: review, dtype: int64"
      ]
     },
     "execution_count": 172,
     "metadata": {},
     "output_type": "execute_result"
    }
   ],
   "source": [
    "reviews.groupby(\"title\")[\"review\"].count().sort_values()"
   ]
  },
  {
   "cell_type": "markdown",
   "id": "273d5b10-affe-46b3-a14b-09723a8763bc",
   "metadata": {},
   "source": [
    "### We are going to combine reviews per game"
   ]
  },
  {
   "cell_type": "code",
   "execution_count": 173,
   "id": "32473970-0a1c-4d2e-aade-a4b79cf1afa4",
   "metadata": {},
   "outputs": [],
   "source": [
    "games = list(reviews[\"title\"].unique())"
   ]
  },
  {
   "cell_type": "code",
   "execution_count": 174,
   "id": "b8d6f38e-de14-4e12-ae37-c3fccc3a0626",
   "metadata": {},
   "outputs": [
    {
     "data": {
      "text/html": [
       "<div>\n",
       "<style scoped>\n",
       "    .dataframe tbody tr th:only-of-type {\n",
       "        vertical-align: middle;\n",
       "    }\n",
       "\n",
       "    .dataframe tbody tr th {\n",
       "        vertical-align: top;\n",
       "    }\n",
       "\n",
       "    .dataframe thead th {\n",
       "        text-align: right;\n",
       "    }\n",
       "</style>\n",
       "<table border=\"1\" class=\"dataframe\">\n",
       "  <thead>\n",
       "    <tr style=\"text-align: right;\">\n",
       "      <th></th>\n",
       "      <th>game</th>\n",
       "      <th>reviews</th>\n",
       "    </tr>\n",
       "  </thead>\n",
       "  <tbody>\n",
       "    <tr>\n",
       "      <th>0</th>\n",
       "      <td>Expansion - Hearts of Iron IV: Man the Guns</td>\n",
       "      <td>NaN</td>\n",
       "    </tr>\n",
       "    <tr>\n",
       "      <th>1</th>\n",
       "      <td>Dead by Daylight</td>\n",
       "      <td>NaN</td>\n",
       "    </tr>\n",
       "    <tr>\n",
       "      <th>2</th>\n",
       "      <td>Wargroove</td>\n",
       "      <td>NaN</td>\n",
       "    </tr>\n",
       "    <tr>\n",
       "      <th>3</th>\n",
       "      <td>Wallpaper Engine</td>\n",
       "      <td>NaN</td>\n",
       "    </tr>\n",
       "    <tr>\n",
       "      <th>4</th>\n",
       "      <td>Factorio</td>\n",
       "      <td>NaN</td>\n",
       "    </tr>\n",
       "  </tbody>\n",
       "</table>\n",
       "</div>"
      ],
      "text/plain": [
       "                                          game reviews\n",
       "0  Expansion - Hearts of Iron IV: Man the Guns     NaN\n",
       "1                             Dead by Daylight     NaN\n",
       "2                                    Wargroove     NaN\n",
       "3                             Wallpaper Engine     NaN\n",
       "4                                     Factorio     NaN"
      ]
     },
     "execution_count": 174,
     "metadata": {},
     "output_type": "execute_result"
    }
   ],
   "source": [
    "reviews_per_game = pd.DataFrame(columns=[\"game\", \"reviews\"])\n",
    "reviews_per_game[\"game\"] = games\n",
    "reviews_per_game.head(5)"
   ]
  },
  {
   "cell_type": "code",
   "execution_count": 185,
   "id": "1fc46e66-cc76-40b2-bb03-de5edbb1c3e5",
   "metadata": {},
   "outputs": [],
   "source": [
    "all_reviews = []\n",
    "for game in games:\n",
    "    review_per_game = reviews[reviews[\"title\"] == game][\"review\"]\n",
    "    temp = ''\n",
    "    for r in review_per_game: #join drop long strings\n",
    "        temp += str(r) + \"\\n\"\n",
    "    all_reviews.append(temp)"
   ]
  },
  {
   "cell_type": "code",
   "execution_count": 186,
   "id": "0d5ad9b7-6b9a-47cc-be02-974bf2b925da",
   "metadata": {},
   "outputs": [
    {
     "data": {
      "text/plain": [
       "\"&gt Played as German Reich&gt Declare war on Belgium&gt Can't break Belgium so go through France&gt Capitulate France in order to get to Belgium&gt Get True Blitzkrieg achievementThis game is dad\\nyes.\\nVery good game although a bit overpriced in my opinion. I'd prefer playing the game with mods (historical accuracy so on) although the vanilla version is good aswell. 7/10\\n\""
      ]
     },
     "execution_count": 186,
     "metadata": {},
     "output_type": "execute_result"
    }
   ],
   "source": [
    "all_reviews[0]"
   ]
  },
  {
   "cell_type": "code",
   "execution_count": 187,
   "id": "df7c232e-9c41-4715-a912-88cbf8033cc6",
   "metadata": {},
   "outputs": [],
   "source": [
    "reviews_per_game[\"reviews\"] = all_reviews"
   ]
  },
  {
   "cell_type": "code",
   "execution_count": 188,
   "id": "80c2784e-3deb-4285-9dbd-f70a862af439",
   "metadata": {},
   "outputs": [
    {
     "data": {
      "text/html": [
       "<div>\n",
       "<style scoped>\n",
       "    .dataframe tbody tr th:only-of-type {\n",
       "        vertical-align: middle;\n",
       "    }\n",
       "\n",
       "    .dataframe tbody tr th {\n",
       "        vertical-align: top;\n",
       "    }\n",
       "\n",
       "    .dataframe thead th {\n",
       "        text-align: right;\n",
       "    }\n",
       "</style>\n",
       "<table border=\"1\" class=\"dataframe\">\n",
       "  <thead>\n",
       "    <tr style=\"text-align: right;\">\n",
       "      <th></th>\n",
       "      <th>game</th>\n",
       "      <th>reviews</th>\n",
       "    </tr>\n",
       "  </thead>\n",
       "  <tbody>\n",
       "    <tr>\n",
       "      <th>0</th>\n",
       "      <td>Expansion - Hearts of Iron IV: Man the Guns</td>\n",
       "      <td>&amp;gt Played as German Reich&amp;gt Declare war on B...</td>\n",
       "    </tr>\n",
       "    <tr>\n",
       "      <th>1</th>\n",
       "      <td>Dead by Daylight</td>\n",
       "      <td>Out of all the reviews I wrote This one is pro...</td>\n",
       "    </tr>\n",
       "    <tr>\n",
       "      <th>2</th>\n",
       "      <td>Wargroove</td>\n",
       "      <td>It's like Advance Wars with a coat of Fire Emb...</td>\n",
       "    </tr>\n",
       "    <tr>\n",
       "      <th>3</th>\n",
       "      <td>Wallpaper Engine</td>\n",
       "      <td>Cool as hell!\\nA wonderful additional to your ...</td>\n",
       "    </tr>\n",
       "    <tr>\n",
       "      <th>4</th>\n",
       "      <td>Factorio</td>\n",
       "      <td>Factorio is a puzzle game. The objective is su...</td>\n",
       "    </tr>\n",
       "  </tbody>\n",
       "</table>\n",
       "</div>"
      ],
      "text/plain": [
       "                                          game  \\\n",
       "0  Expansion - Hearts of Iron IV: Man the Guns   \n",
       "1                             Dead by Daylight   \n",
       "2                                    Wargroove   \n",
       "3                             Wallpaper Engine   \n",
       "4                                     Factorio   \n",
       "\n",
       "                                             reviews  \n",
       "0  &gt Played as German Reich&gt Declare war on B...  \n",
       "1  Out of all the reviews I wrote This one is pro...  \n",
       "2  It's like Advance Wars with a coat of Fire Emb...  \n",
       "3  Cool as hell!\\nA wonderful additional to your ...  \n",
       "4  Factorio is a puzzle game. The objective is su...  "
      ]
     },
     "execution_count": 188,
     "metadata": {},
     "output_type": "execute_result"
    }
   ],
   "source": [
    "reviews_per_game.head(5)"
   ]
  },
  {
   "cell_type": "code",
   "execution_count": 189,
   "id": "4d1e3221-1d7f-474b-839e-d91948212c29",
   "metadata": {},
   "outputs": [],
   "source": [
    "reviews_per_game.to_csv(r\"..\\Data\\reviews_per_game.csv\")"
   ]
  },
  {
   "cell_type": "code",
   "execution_count": 7,
   "id": "c40d13a3-b14a-4ae0-8e31-3d43c62cf204",
   "metadata": {},
   "outputs": [
    {
     "name": "stderr",
     "output_type": "stream",
     "text": [
      "[nltk_data] Downloading package stopwords to\n",
      "[nltk_data]     C:\\Users\\elaaf\\AppData\\Roaming\\nltk_data...\n",
      "[nltk_data]   Package stopwords is already up-to-date!\n"
     ]
    },
    {
     "data": {
      "text/plain": [
       "True"
      ]
     },
     "execution_count": 7,
     "metadata": {},
     "output_type": "execute_result"
    }
   ],
   "source": [
    "nltk.download('stopwords')"
   ]
  },
  {
   "cell_type": "code",
   "execution_count": 8,
   "id": "6649153f-e9bd-4638-bf22-7006e675d266",
   "metadata": {},
   "outputs": [],
   "source": [
    "stopwords = stopwords.words('english')\n",
    "stemmer = nltk.stem.PorterStemmer()"
   ]
  },
  {
   "cell_type": "code",
   "execution_count": 190,
   "id": "5a4eb35b-8b13-4309-97de-00356d08da23",
   "metadata": {},
   "outputs": [],
   "source": [
    "digits = ['0','1',\n",
    "         '2','3',\n",
    "         '4','5',\n",
    "         '6','7',\n",
    "         '8','9']\n",
    "\n",
    "html_entites = [\"&gt\", \"&lt\"]"
   ]
  },
  {
   "cell_type": "code",
   "execution_count": 196,
   "id": "014074f6-fd96-4068-83fb-c9292b46df73",
   "metadata": {},
   "outputs": [],
   "source": [
    "##input: sentence\n",
    "##output: tokenized list\n",
    "#purpose: clean (remove stopwords, punctuations, digits and lowercase) and split words\n",
    "def token(sentence):\n",
    "    \n",
    "    \n",
    "    sentence = sentence.replace('\\d+',\" \").replace('\\n',\" \").strip(\" \")\n",
    "    \n",
    "    # 1. remove punct, digits, <> and lowercase\n",
    "    for d in digits:\n",
    "        sentence = sentence.replace(d,'')\n",
    "    \n",
    "    for symbol in html_entites:\n",
    "        sentence = sentence.replace(symbol,'')\n",
    "    \n",
    "    for punct in string.punctuation:\n",
    "        sentence = sentence.replace(punct,'').lower()\n",
    "\n",
    "        \n",
    "    words = sentence.split(' ')\n",
    "    t = []\n",
    "    \n",
    "    # 2. remove stop words and stem\n",
    "    for word in words:\n",
    "        if (not word in stopwords) and (word!=''):\n",
    "            # Stem words\n",
    "            stemmed = stemmer.stem(word)\n",
    "            t.append(stemmed)\n",
    "\n",
    "    return t"
   ]
  },
  {
   "cell_type": "markdown",
   "id": "77438e17-4aea-44f8-8de4-387dcf88af94",
   "metadata": {},
   "source": [
    "### Check to see if the tokenizer works as expected"
   ]
  },
  {
   "cell_type": "code",
   "execution_count": 197,
   "id": "83c5a308-fa0d-4aaa-bf57-d62bd2627d7c",
   "metadata": {},
   "outputs": [
    {
     "name": "stdout",
     "output_type": "stream",
     "text": [
      "['play', 'german', 'reich', 'declar', 'war', 'belgium', 'cant', 'break', 'belgium', 'go', 'franc', 'capitul', 'franc', 'order', 'get', 'belgium', 'get', 'true', 'blitzkrieg', 'achievementthi', 'game', 'dad', 'ye', 'good', 'game', 'although', 'bit', 'overpr', 'opinion', 'id', 'prefer', 'play', 'game', 'mod', 'histor', 'accuraci', 'although', 'vanilla', 'version', 'good', 'aswel']\n"
     ]
    },
    {
     "ename": "ZeroDivisionError",
     "evalue": "division by zero",
     "output_type": "error",
     "traceback": [
      "\u001b[1;31m---------------------------------------------------------------------------\u001b[0m",
      "\u001b[1;31mZeroDivisionError\u001b[0m                         Traceback (most recent call last)",
      "\u001b[1;32m~\\AppData\\Local\\Temp/ipykernel_24080/4201920028.py\u001b[0m in \u001b[0;36m<module>\u001b[1;34m\u001b[0m\n\u001b[0;32m      4\u001b[0m     \u001b[0mprint\u001b[0m\u001b[1;33m(\u001b[0m\u001b[0mtoken\u001b[0m\u001b[1;33m(\u001b[0m\u001b[0ms\u001b[0m\u001b[1;33m)\u001b[0m\u001b[1;33m)\u001b[0m\u001b[1;33m\u001b[0m\u001b[1;33m\u001b[0m\u001b[0m\n\u001b[0;32m      5\u001b[0m     \u001b[0mcount\u001b[0m \u001b[1;33m+=\u001b[0m\u001b[1;36m1\u001b[0m\u001b[1;33m\u001b[0m\u001b[1;33m\u001b[0m\u001b[0m\n\u001b[1;32m----> 6\u001b[1;33m     \u001b[1;36m1\u001b[0m\u001b[1;33m/\u001b[0m\u001b[1;36m0\u001b[0m\u001b[1;33m\u001b[0m\u001b[1;33m\u001b[0m\u001b[0m\n\u001b[0m\u001b[0;32m      7\u001b[0m \u001b[1;31m#note_to_self: remove gt and lt and others html entites <>\u001b[0m\u001b[1;33m\u001b[0m\u001b[1;33m\u001b[0m\u001b[1;33m\u001b[0m\u001b[0m\n",
      "\u001b[1;31mZeroDivisionError\u001b[0m: division by zero"
     ]
    }
   ],
   "source": [
    "count = 0\n",
    "\n",
    "for s in reviews_per_game.reviews:\n",
    "    print(token(s))\n",
    "    count +=1\n",
    "    1/0"
   ]
  },
  {
   "cell_type": "markdown",
   "id": "03140e67-0ad7-4e79-80de-e2c222fb167e",
   "metadata": {},
   "source": [
    "## Vectorize with TF-IDF and tokenizer"
   ]
  },
  {
   "cell_type": "code",
   "execution_count": 198,
   "id": "779264b2-3847-4285-8ecb-6aba67df766b",
   "metadata": {},
   "outputs": [],
   "source": [
    "vectorizer = TfidfVectorizer(tokenizer=token)"
   ]
  },
  {
   "cell_type": "code",
   "execution_count": 199,
   "id": "35ed5316-3189-4f59-bb7a-1aabc790dc18",
   "metadata": {},
   "outputs": [],
   "source": [
    "TF_IDF_matrix = vectorizer.fit_transform(rev['review'])"
   ]
  },
  {
   "cell_type": "code",
   "execution_count": 200,
   "id": "c4d8de80-124d-4351-a143-5812a3ffc7e7",
   "metadata": {},
   "outputs": [
    {
     "data": {
      "text/plain": [
       "(434891, 268269)"
      ]
     },
     "execution_count": 200,
     "metadata": {},
     "output_type": "execute_result"
    }
   ],
   "source": [
    "TF_IDF_matrix.shape"
   ]
  },
  {
   "cell_type": "code",
   "execution_count": 201,
   "id": "a41bc640-15f7-4728-bf0e-00cf8590d704",
   "metadata": {},
   "outputs": [],
   "source": [
    "import pickle\n",
    "with open(r\"../Data/reviews_TF_IDF_matrix.pickle\", 'wb') as handle:\n",
    "    pickle.dump(TF_IDF_matrix, handle, protocol=pickle.HIGHEST_PROTOCOL) #HIGHEST_PROTOCOL for smallest size possible"
   ]
  },
  {
   "cell_type": "code",
   "execution_count": null,
   "id": "d71a96d1-49c6-4622-a4d0-b7177cb8a140",
   "metadata": {},
   "outputs": [],
   "source": []
  },
  {
   "cell_type": "code",
   "execution_count": null,
   "id": "c26705d8-2ce3-4ac0-a9fe-e1686b7f117e",
   "metadata": {},
   "outputs": [],
   "source": []
  }
 ],
 "metadata": {
  "kernelspec": {
   "display_name": "Python 3 (ipykernel)",
   "language": "python",
   "name": "python3"
  },
  "language_info": {
   "codemirror_mode": {
    "name": "ipython",
    "version": 3
   },
   "file_extension": ".py",
   "mimetype": "text/x-python",
   "name": "python",
   "nbconvert_exporter": "python",
   "pygments_lexer": "ipython3",
   "version": "3.8.11"
  }
 },
 "nbformat": 4,
 "nbformat_minor": 5
}
